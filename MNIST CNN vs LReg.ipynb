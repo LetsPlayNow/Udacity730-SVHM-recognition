{
 "cells": [
  {
   "cell_type": "markdown",
   "metadata": {
    "nbpresent": {
     "id": "c4881ee8-2d56-4832-94a2-b82fea602add"
    }
   },
   "source": [
    "# At first, play a bit with MNIST"
   ]
  },
  {
   "cell_type": "code",
   "execution_count": 1,
   "metadata": {
    "collapsed": false,
    "nbpresent": {
     "id": "0166092c-2800-4a2b-ae5d-adb169497a74"
    }
   },
   "outputs": [
    {
     "name": "stdout",
     "output_type": "stream",
     "text": [
      "Extracting MNIST_data/train-images-idx3-ubyte.gz\n",
      "Extracting MNIST_data/train-labels-idx1-ubyte.gz\n",
      "Extracting MNIST_data/t10k-images-idx3-ubyte.gz\n",
      "Extracting MNIST_data/t10k-labels-idx1-ubyte.gz\n"
     ]
    }
   ],
   "source": [
    "from tensorflow.examples.tutorials.mnist import input_data\n",
    "mnist = input_data.read_data_sets(\"MNIST_data/\", one_hot=True)"
   ]
  },
  {
   "cell_type": "code",
   "execution_count": 2,
   "metadata": {
    "collapsed": true,
    "nbpresent": {
     "id": "dbb966dc-9c96-4ea4-8113-d650187f8445"
    }
   },
   "outputs": [],
   "source": [
    "import tensorflow as tf\n",
    "import numpy as np\n",
    "from matplotlib import pyplot as plt"
   ]
  },
  {
   "cell_type": "markdown",
   "metadata": {
    "nbpresent": {
     "id": "594998b3-ca96-4cd7-ba99-e48c64ed928c"
    }
   },
   "source": [
    "## Check format of data"
   ]
  },
  {
   "cell_type": "code",
   "execution_count": 2,
   "metadata": {
    "collapsed": false,
    "nbpresent": {
     "id": "2af830d3-f60a-4ead-98d0-bd9908ad57ee"
    }
   },
   "outputs": [],
   "source": [
    "def print_public_fields(obj):\n",
    "    for field in dir(obj):\n",
    "        field_is_private = field[0] == '_' or field[1] == '_'\n",
    "        if not field_is_private:\n",
    "            print(field, type(getattr(obj, field)))"
   ]
  },
  {
   "cell_type": "code",
   "execution_count": 3,
   "metadata": {
    "collapsed": false,
    "nbpresent": {
     "id": "5202075e-51d5-4010-8c41-bfd4eb1eeaff"
    }
   },
   "outputs": [
    {
     "name": "stdout",
     "output_type": "stream",
     "text": [
      "count <class 'builtin_function_or_method'>\n",
      "index <class 'builtin_function_or_method'>\n",
      "test <class 'tensorflow.contrib.learn.python.learn.datasets.mnist.DataSet'>\n",
      "train <class 'tensorflow.contrib.learn.python.learn.datasets.mnist.DataSet'>\n",
      "validation <class 'tensorflow.contrib.learn.python.learn.datasets.mnist.DataSet'>\n"
     ]
    }
   ],
   "source": [
    "print_public_fields(mnist)"
   ]
  },
  {
   "cell_type": "code",
   "execution_count": 4,
   "metadata": {
    "collapsed": false,
    "nbpresent": {
     "id": "28a6341b-0a92-49ce-82c6-31923b3193b5"
    }
   },
   "outputs": [
    {
     "name": "stdout",
     "output_type": "stream",
     "text": [
      "epochs_completed <class 'int'>\n",
      "images <class 'numpy.ndarray'>\n",
      "labels <class 'numpy.ndarray'>\n",
      "next_batch <class 'method'>\n",
      "num_examples <class 'int'>\n"
     ]
    }
   ],
   "source": [
    "print_public_fields(mnist.test)"
   ]
  },
  {
   "cell_type": "markdown",
   "metadata": {
    "nbpresent": {
     "id": "0979aae1-8a45-47d7-938f-99e12b6ed355"
    }
   },
   "source": [
    "### Check format of images"
   ]
  },
  {
   "cell_type": "code",
   "execution_count": 11,
   "metadata": {
    "collapsed": false,
    "nbpresent": {
     "id": "4f983e62-cce6-4535-b6f5-549732343d9b"
    }
   },
   "outputs": [],
   "source": [
    "from matplotlib import pyplot as plt"
   ]
  },
  {
   "cell_type": "code",
   "execution_count": 32,
   "metadata": {
    "collapsed": false,
    "nbpresent": {
     "id": "8e092140-7172-4eca-aeb0-0990663ea416"
    }
   },
   "outputs": [
    {
     "data": {
      "image/png": "[encoded data removed]",
      "text/plain": [
       "<matplotlib.figure.Figure at 0x7f5201579470>"
      ]
     },
     "metadata": {},
     "output_type": "display_data"
    }
   ],
   "source": [
    "image = mnist.test.images[0]\n",
    "image = image.reshape((28, -1))\n",
    "plt.imshow(image)\n",
    "plt.show()"
   ]
  },
  {
   "cell_type": "code",
   "execution_count": 31,
   "metadata": {
    "collapsed": false,
    "nbpresent": {
     "id": "e284c3c4-5fcc-466b-b92f-208c3394afe7"
    }
   },
   "outputs": [
    {
     "name": "stdout",
     "output_type": "stream",
     "text": [
      "Pixel values in range: [0.0; 1.0]\n"
     ]
    }
   ],
   "source": [
    "print(\"Pixel values in range: [{}; {}]\".format(image.min(), image.max()))"
   ]
  },
  {
   "cell_type": "markdown",
   "metadata": {
    "nbpresent": {
     "id": "903e1c0d-c4f4-44c6-a441-786b7d7142b3"
    }
   },
   "source": [
    "## Training"
   ]
  },
  {
   "cell_type": "markdown",
   "metadata": {},
   "source": [
    "### Simple linear regression"
   ]
  },
  {
   "cell_type": "code",
   "execution_count": 2,
   "metadata": {
    "collapsed": false,
    "nbpresent": {
     "id": "00fab7c3-0547-44c6-a3dd-7c13baf016c4"
    }
   },
   "outputs": [],
   "source": [
    "img_len = 28*28\n",
    "num_classes = 10\n",
    "batch_size = 64 # Play with this parameter\n",
    "test_dataset_length = len(mnist.test.labels)"
   ]
  },
  {
   "cell_type": "code",
   "execution_count": 3,
   "metadata": {
    "collapsed": true,
    "nbpresent": {
     "id": "0b37d4ec-24ca-41ac-96b2-7c3781f8cacf"
    }
   },
   "outputs": [],
   "source": [
    "import tensorflow as tf"
   ]
  },
  {
   "cell_type": "code",
   "execution_count": 4,
   "metadata": {
    "collapsed": false,
    "nbpresent": {
     "id": "17dea407-468c-4158-8cf4-0e7f3572510e"
    }
   },
   "outputs": [],
   "source": [
    "graph = tf.Graph()\n",
    "\n",
    "with graph.as_default():\n",
    "    Xs = tf.placeholder(tf.float32, shape=[None, img_len])\n",
    "    Ys = tf.placeholder(tf.float32, shape=[None, num_classes])\n",
    "    \n",
    "    W = tf.Variable(tf.truncated_normal(shape=[img_len, num_classes]))\n",
    "    b = tf.Variable(tf.zeros([num_classes]))\n",
    "    \n",
    "    logits = tf.matmul(Xs, W) + b\n",
    "    loss = tf.reduce_mean(tf.losses.softmax_cross_entropy(Ys, logits))\n",
    "    \n",
    "    optimizer = tf.train.GradientDescentOptimizer(0.5).minimize(loss)\n",
    "    \n",
    "    # test\n",
    "    test_predictions = tf.nn.softmax(tf.matmul(Xs, W) + b)\n",
    "    correct_prediction = tf.equal(tf.argmax(Ys,1), tf.argmax(test_predictions,1))\n",
    "    accuracy = tf.reduce_mean(tf.cast(correct_prediction, tf.float32))"
   ]
  },
  {
   "cell_type": "code",
   "execution_count": 7,
   "metadata": {
    "collapsed": false,
    "nbpresent": {
     "id": "51ba1495-070a-4154-a11e-af70348753e2"
    }
   },
   "outputs": [
    {
     "name": "stdout",
     "output_type": "stream",
     "text": [
      "[0 step] Loss for validation dataset is 12.888274192810059\n",
      "[2000 step] Loss for validation dataset is 0.270382285118103\n",
      "[4000 step] Loss for validation dataset is 0.2436733841896057\n",
      "[6000 step] Loss for validation dataset is 0.2596595585346222\n",
      "[8000 step] Loss for validation dataset is 0.29431813955307007\n",
      "[10000 step] Loss for validation dataset is 0.21821440756320953\n",
      "[12000 step] Loss for validation dataset is 0.2246493250131607\n",
      "[14000 step] Loss for validation dataset is 0.2179436981678009\n",
      "[16000 step] Loss for validation dataset is 0.25291672348976135\n",
      "[18000 step] Loss for validation dataset is 0.24580085277557373\n",
      "Test accuracy is  0.9189\n"
     ]
    }
   ],
   "source": [
    "num_steps = 20000\n",
    "\n",
    "valid_data, valid_labels = mnist.validation.next_batch(batch_size)\n",
    "\n",
    "with tf.Session(graph=graph) as session:\n",
    "    tf.global_variables_initializer().run()\n",
    "    for step in range(num_steps):\n",
    "        train_data, train_labels = mnist.train.next_batch(batch_size)\n",
    "        l, _ = session.run([loss, optimizer], feed_dict={Xs: train_data, Ys: train_labels})\n",
    "        if step % 2000 == 0:\n",
    "            l = session.run(loss, feed_dict={Xs: valid_data, Ys: valid_labels})\n",
    "            print(\"[{} step] Loss for validation dataset is {}\".format(step, l))\n",
    "    \n",
    "    test_accuracy = session.run(accuracy, feed_dict={Xs: mnist.test.images, Ys: mnist.test.labels})\n",
    "    print(\"Test accuracy is \", test_accuracy)"
   ]
  },
  {
   "cell_type": "markdown",
   "metadata": {
    "nbpresent": {
     "id": "c6737024-74f7-4e05-8133-9c031e351629"
    }
   },
   "source": [
    "Complete these tutorials by yourself.\n",
    "\n",
    "* https://www.tensorflow.org/get_started/mnist/beginners\n",
    "* https://www.tensorflow.org/get_started/mnist/pros\n",
    "\n",
    "And read this article\n",
    "http://colah.github.io/posts/2015-09-Visual-Information/\n",
    "\n",
    "Also experiment with parameters and also try RNN from official Tensorflow tutorial on this link.\n",
    "https://www.tensorflow.org/tutorials/\n",
    "\n",
    "ALso if you have a time play with tutorials on the link above"
   ]
  },
  {
   "cell_type": "markdown",
   "metadata": {
    "nbpresent": {
     "id": "363d38eb-3187-4368-a870-ddf119dd4420"
    }
   },
   "source": [
    "### Simple convolution neural network "
   ]
  },
  {
   "cell_type": "code",
   "execution_count": 8,
   "metadata": {
    "collapsed": true,
    "nbpresent": {
     "id": "e35845a3-0bca-41b7-ae6f-adedd2186eb1"
    }
   },
   "outputs": [],
   "source": [
    "def weight_variable(shape):\n",
    "    initial = tf.truncated_normal(shape, stddev=0.1)\n",
    "    return tf.Variable(initial)\n",
    "\n",
    "def bias_variable(shape):\n",
    "    initial = tf.zeros(shape)\n",
    "    return tf.Variable(initial)\n",
    "\n",
    "def conv2d(x, W):\n",
    "    return tf.nn.conv2d(x, W, strides=[1, 1, 1, 1], padding='SAME')\n",
    "\n",
    "def max_pool_2x2(x):\n",
    "    return tf.nn.max_pool(x, ksize=[1, 2, 2, 1], strides=[1, 2, 2, 1], padding='SAME')"
   ]
  },
  {
   "cell_type": "code",
   "execution_count": 10,
   "metadata": {
    "collapsed": false,
    "nbpresent": {
     "id": "96d1bcdf-55ef-4aba-9ed8-b9208ab9542a"
    }
   },
   "outputs": [],
   "source": [
    "num_classes = 10"
   ]
  },
  {
   "cell_type": "code",
   "execution_count": 20,
   "metadata": {
    "collapsed": false,
    "nbpresent": {
     "id": "4b861f6d-56f2-49b9-9e8b-f14c5e65f314"
    }
   },
   "outputs": [],
   "source": [
    "graph = tf.Graph()\n",
    "\n",
    "with graph.as_default():\n",
    "    x = tf.placeholder(tf.float32, shape=[None, 784])\n",
    "    y_ = tf.placeholder(tf.float32, shape=[None, num_classes])\n",
    "    \n",
    "    x_image = tf.reshape(x, [-1, 28, 28, 1])\n",
    "    \n",
    "    W_conv1 = weight_variable([5, 5, 1, 32])\n",
    "    b_conv1 = bias_variable([32])\n",
    "    \n",
    "    h_conv1 = tf.nn.relu(conv2d(x_image, W_conv1) + b_conv1)\n",
    "    h_pool1 = max_pool_2x2(h_conv1)\n",
    "    \n",
    "    W_conv2 = weight_variable([5, 5, 32, 64])\n",
    "    b_conv2 = bias_variable([64])\n",
    "    \n",
    "    h_conv2 = tf.nn.relu(conv2d(h_pool1, W_conv2) + b_conv2)\n",
    "    h_pool2 = max_pool_2x2(h_conv2)\n",
    "    \n",
    "    W_fc1 = weight_variable([7*7*64, 1024])\n",
    "    b_fc1 = bias_variable([1024])\n",
    "    \n",
    "    h_pool2_flat = tf.reshape(h_pool2, [-1, 7*7*64])\n",
    "    h_fc1 = tf.nn.relu(tf.matmul(h_pool2_flat, W_fc1) + b_fc1)\n",
    "    \n",
    "    keep_prob = tf.placeholder(tf.float32)\n",
    "    h_fc1_drop = tf.nn.dropout(h_fc1, keep_prob)\n",
    "    \n",
    "    W_fc2 = weight_variable([1024, 10])\n",
    "    b_fc2 = bias_variable([10])\n",
    "    \n",
    "    y_conv = tf.matmul(h_fc1_drop, W_fc2) + b_fc2\n",
    "    \n",
    "    cross_entropy = tf.reduce_mean(tf.nn.softmax_cross_entropy_with_logits(labels=y_, logits=y_conv))\n",
    "    train_step = tf.train.AdamOptimizer(1e-4).minimize(cross_entropy)\n",
    "    correct_prediction = tf.equal(tf.argmax(y_, 1), tf.argmax(y_conv, 1))\n",
    "    accuracy = tf.reduce_mean(tf.cast(correct_prediction, tf.float32))"
   ]
  },
  {
   "cell_type": "code",
   "execution_count": 21,
   "metadata": {
    "collapsed": false,
    "nbpresent": {
     "id": "5976a01f-6790-4f10-83d6-240b3cba35ed"
    }
   },
   "outputs": [
    {
     "name": "stdout",
     "output_type": "stream",
     "text": [
      "step 0, training accuracy 0.05999999865889549\n",
      "step 100, training accuracy 0.8799999952316284\n",
      "step 200, training accuracy 0.9399999976158142\n",
      "step 300, training accuracy 0.8999999761581421\n",
      "step 400, training accuracy 0.9599999785423279\n",
      "step 500, training accuracy 0.9599999785423279\n",
      "step 600, training accuracy 0.9599999785423279\n",
      "step 700, training accuracy 0.9599999785423279\n",
      "step 800, training accuracy 0.9200000166893005\n",
      "step 900, training accuracy 0.9800000190734863\n",
      "step 1000, training accuracy 0.9599999785423279\n",
      "step 1100, training accuracy 1.0\n",
      "step 1200, training accuracy 0.8799999952316284\n",
      "step 1300, training accuracy 1.0\n",
      "step 1400, training accuracy 1.0\n",
      "step 1500, training accuracy 0.9599999785423279\n",
      "step 1600, training accuracy 0.9599999785423279\n",
      "step 1700, training accuracy 0.9800000190734863\n",
      "step 1800, training accuracy 0.9599999785423279\n",
      "step 1900, training accuracy 0.9800000190734863\n",
      "step 2000, training accuracy 1.0\n",
      "step 2100, training accuracy 0.9800000190734863\n",
      "step 2200, training accuracy 0.9599999785423279\n",
      "step 2300, training accuracy 0.9800000190734863\n",
      "step 2400, training accuracy 1.0\n",
      "step 2500, training accuracy 0.9599999785423279\n",
      "step 2600, training accuracy 0.9800000190734863\n",
      "step 2700, training accuracy 0.9800000190734863\n",
      "step 2800, training accuracy 1.0\n",
      "step 2900, training accuracy 0.9800000190734863\n",
      "step 3000, training accuracy 1.0\n",
      "step 3100, training accuracy 0.9599999785423279\n",
      "step 3200, training accuracy 0.9800000190734863\n",
      "step 3300, training accuracy 0.9800000190734863\n",
      "step 3400, training accuracy 1.0\n",
      "step 3500, training accuracy 0.9800000190734863\n",
      "step 3600, training accuracy 0.9800000190734863\n",
      "step 3700, training accuracy 0.9800000190734863\n",
      "step 3800, training accuracy 0.9800000190734863\n",
      "step 3900, training accuracy 1.0\n",
      "step 4000, training accuracy 0.9800000190734863\n",
      "step 4100, training accuracy 1.0\n",
      "step 4200, training accuracy 1.0\n",
      "step 4300, training accuracy 1.0\n",
      "step 4400, training accuracy 0.9800000190734863\n",
      "step 4500, training accuracy 0.9800000190734863\n",
      "step 4600, training accuracy 1.0\n",
      "step 4700, training accuracy 1.0\n",
      "step 4800, training accuracy 0.9800000190734863\n",
      "step 4900, training accuracy 1.0\n",
      "step 5000, training accuracy 1.0\n",
      "step 5100, training accuracy 0.9599999785423279\n",
      "step 5200, training accuracy 1.0\n",
      "step 5300, training accuracy 1.0\n",
      "step 5400, training accuracy 1.0\n",
      "step 5500, training accuracy 0.9800000190734863\n",
      "step 5600, training accuracy 1.0\n",
      "step 5700, training accuracy 1.0\n",
      "step 5800, training accuracy 1.0\n",
      "step 5900, training accuracy 1.0\n",
      "step 6000, training accuracy 0.9800000190734863\n",
      "step 6100, training accuracy 1.0\n",
      "step 6200, training accuracy 1.0\n",
      "step 6300, training accuracy 1.0\n",
      "step 6400, training accuracy 1.0\n",
      "step 6500, training accuracy 1.0\n",
      "step 6600, training accuracy 1.0\n",
      "step 6700, training accuracy 0.9800000190734863\n",
      "step 6800, training accuracy 0.9800000190734863\n",
      "step 6900, training accuracy 0.9599999785423279\n",
      "step 7000, training accuracy 0.9800000190734863\n",
      "step 7100, training accuracy 1.0\n",
      "step 7200, training accuracy 1.0\n",
      "step 7300, training accuracy 1.0\n",
      "step 7400, training accuracy 1.0\n",
      "step 7500, training accuracy 1.0\n",
      "step 7600, training accuracy 0.9800000190734863\n",
      "step 7700, training accuracy 1.0\n",
      "step 7800, training accuracy 1.0\n",
      "step 7900, training accuracy 1.0\n",
      "step 8000, training accuracy 1.0\n",
      "step 8100, training accuracy 1.0\n",
      "step 8200, training accuracy 1.0\n",
      "step 8300, training accuracy 0.9800000190734863\n",
      "step 8400, training accuracy 1.0\n",
      "step 8500, training accuracy 1.0\n",
      "step 8600, training accuracy 1.0\n",
      "step 8700, training accuracy 1.0\n",
      "step 8800, training accuracy 1.0\n",
      "step 8900, training accuracy 1.0\n",
      "step 9000, training accuracy 1.0\n",
      "step 9100, training accuracy 1.0\n",
      "step 9200, training accuracy 1.0\n",
      "step 9300, training accuracy 1.0\n",
      "step 9400, training accuracy 1.0\n",
      "step 9500, training accuracy 1.0\n",
      "step 9600, training accuracy 0.9800000190734863\n",
      "step 9700, training accuracy 1.0\n",
      "step 9800, training accuracy 0.9800000190734863\n",
      "step 9900, training accuracy 1.0\n",
      "step 10000, training accuracy 1.0\n",
      "step 10100, training accuracy 1.0\n",
      "step 10200, training accuracy 1.0\n",
      "step 10300, training accuracy 1.0\n",
      "step 10400, training accuracy 0.9599999785423279\n",
      "step 10500, training accuracy 1.0\n",
      "step 10600, training accuracy 1.0\n",
      "step 10700, training accuracy 1.0\n",
      "step 10800, training accuracy 1.0\n",
      "step 10900, training accuracy 1.0\n",
      "step 11000, training accuracy 1.0\n",
      "step 11100, training accuracy 1.0\n",
      "step 11200, training accuracy 1.0\n",
      "step 11300, training accuracy 1.0\n",
      "step 11400, training accuracy 1.0\n",
      "step 11500, training accuracy 1.0\n",
      "step 11600, training accuracy 1.0\n",
      "step 11700, training accuracy 1.0\n",
      "step 11800, training accuracy 1.0\n",
      "step 11900, training accuracy 1.0\n",
      "step 12000, training accuracy 1.0\n",
      "step 12100, training accuracy 1.0\n",
      "step 12200, training accuracy 1.0\n",
      "step 12300, training accuracy 1.0\n",
      "step 12400, training accuracy 1.0\n",
      "step 12500, training accuracy 1.0\n",
      "step 12600, training accuracy 1.0\n",
      "step 12700, training accuracy 1.0\n",
      "step 12800, training accuracy 1.0\n",
      "step 12900, training accuracy 1.0\n",
      "step 13000, training accuracy 1.0\n",
      "step 13100, training accuracy 1.0\n",
      "step 13200, training accuracy 0.9800000190734863\n",
      "step 13300, training accuracy 1.0\n",
      "step 13400, training accuracy 1.0\n",
      "step 13500, training accuracy 1.0\n",
      "step 13600, training accuracy 1.0\n",
      "step 13700, training accuracy 1.0\n",
      "step 13800, training accuracy 1.0\n",
      "step 13900, training accuracy 1.0\n",
      "step 14000, training accuracy 1.0\n",
      "step 14100, training accuracy 1.0\n",
      "step 14200, training accuracy 1.0\n",
      "step 14300, training accuracy 1.0\n",
      "step 14400, training accuracy 1.0\n",
      "step 14500, training accuracy 1.0\n",
      "step 14600, training accuracy 1.0\n",
      "step 14700, training accuracy 1.0\n",
      "step 14800, training accuracy 1.0\n",
      "step 14900, training accuracy 1.0\n",
      "step 15000, training accuracy 1.0\n",
      "step 15100, training accuracy 1.0\n",
      "step 15200, training accuracy 1.0\n",
      "step 15300, training accuracy 1.0\n",
      "step 15400, training accuracy 1.0\n",
      "step 15500, training accuracy 1.0\n",
      "step 15600, training accuracy 1.0\n",
      "step 15700, training accuracy 1.0\n",
      "step 15800, training accuracy 1.0\n",
      "step 15900, training accuracy 1.0\n",
      "step 16000, training accuracy 1.0\n",
      "step 16100, training accuracy 1.0\n",
      "step 16200, training accuracy 1.0\n",
      "step 16300, training accuracy 1.0\n",
      "step 16400, training accuracy 1.0\n",
      "step 16500, training accuracy 1.0\n",
      "step 16600, training accuracy 1.0\n",
      "step 16700, training accuracy 1.0\n",
      "step 16800, training accuracy 1.0\n",
      "step 16900, training accuracy 0.9800000190734863\n",
      "step 17000, training accuracy 1.0\n",
      "step 17100, training accuracy 1.0\n",
      "step 17200, training accuracy 1.0\n",
      "step 17300, training accuracy 1.0\n",
      "step 17400, training accuracy 1.0\n",
      "step 17500, training accuracy 1.0\n",
      "step 17600, training accuracy 1.0\n",
      "step 17700, training accuracy 1.0\n",
      "step 17800, training accuracy 1.0\n",
      "step 17900, training accuracy 1.0\n",
      "step 18000, training accuracy 1.0\n",
      "step 18100, training accuracy 1.0\n",
      "step 18200, training accuracy 1.0\n",
      "step 18300, training accuracy 1.0\n",
      "step 18400, training accuracy 1.0\n",
      "step 18500, training accuracy 1.0\n",
      "step 18600, training accuracy 1.0\n",
      "step 18700, training accuracy 1.0\n",
      "step 18800, training accuracy 1.0\n",
      "step 18900, training accuracy 1.0\n",
      "step 19000, training accuracy 1.0\n",
      "step 19100, training accuracy 1.0\n",
      "step 19200, training accuracy 1.0\n",
      "step 19300, training accuracy 1.0\n",
      "step 19400, training accuracy 1.0\n",
      "step 19500, training accuracy 1.0\n",
      "step 19600, training accuracy 1.0\n",
      "step 19700, training accuracy 1.0\n",
      "step 19800, training accuracy 1.0\n",
      "step 19900, training accuracy 1.0\n",
      "test accuracy 0.9927999973297119\n"
     ]
    }
   ],
   "source": [
    "with tf.Session(graph=graph) as sess:\n",
    "    sess.run(tf.global_variables_initializer())\n",
    "    for i in range(20000):\n",
    "        batch = mnist.train.next_batch(50)\n",
    "        if i % 100 == 0:\n",
    "            train_accuracy = accuracy.eval(feed_dict = {x: batch[0], y_: batch[1], keep_prob: 1.0})\n",
    "            print(\"step {}, training accuracy {}\".format(i, train_accuracy))\n",
    "        train_step.run(feed_dict={x: batch[0], y_: batch[1], keep_prob: 0.5})\n",
    "        \n",
    "    print(\"test accuracy {}\".format(accuracy.eval(feed_dict={\n",
    "                    x: mnist.test.images, y_: mnist.test.labels, keep_prob: 1.0})))"
   ]
  }
 ],
 "metadata": {
  "anaconda-cloud": {},
  "kernelspec": {
   "display_name": "Python [conda env:py_36]",
   "language": "python",
   "name": "conda-env-py_36-py"
  },
  "language_info": {
   "codemirror_mode": {
    "name": "ipython",
    "version": 3
   },
   "file_extension": ".py",
   "mimetype": "text/x-python",
   "name": "python",
   "nbconvert_exporter": "python",
   "pygments_lexer": "ipython3",
   "version": "3.6.2"
  }
 },
 "nbformat": 4,
 "nbformat_minor": 1
}
