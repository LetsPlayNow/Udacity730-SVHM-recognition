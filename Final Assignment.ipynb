{
 "cells": [
  {
   "cell_type": "markdown",
   "metadata": {},
   "source": [
    "# At first, play a bit with MNIST"
   ]
  },
  {
   "cell_type": "code",
   "execution_count": 1,
   "metadata": {
    "collapsed": false
   },
   "outputs": [
    {
     "name": "stdout",
     "output_type": "stream",
     "text": [
      "Extracting MNIST_data/train-images-idx3-ubyte.gz\n",
      "Extracting MNIST_data/train-labels-idx1-ubyte.gz\n",
      "Extracting MNIST_data/t10k-images-idx3-ubyte.gz\n",
      "Extracting MNIST_data/t10k-labels-idx1-ubyte.gz\n"
     ]
    }
   ],
   "source": [
    "from tensorflow.examples.tutorials.mnist import input_data\n",
    "mnist = input_data.read_data_sets(\"MNIST_data/\", one_hot=True)"
   ]
  },
  {
   "cell_type": "code",
   "execution_count": 2,
   "metadata": {
    "collapsed": true
   },
   "outputs": [],
   "source": [
    "import tensorflow as tf\n",
    "import numpy as np\n",
    "from matplotlib import pyplot as plt"
   ]
  },
  {
   "cell_type": "markdown",
   "metadata": {},
   "source": [
    "## Check format of data"
   ]
  },
  {
   "cell_type": "code",
   "execution_count": 2,
   "metadata": {
    "collapsed": false
   },
   "outputs": [],
   "source": [
    "def print_public_fields(obj):\n",
    "    for field in dir(obj):\n",
    "        field_is_private = field[0] == '_' or field[1] == '_'\n",
    "        if not field_is_private:\n",
    "            print(field, type(getattr(obj, field)))"
   ]
  },
  {
   "cell_type": "code",
   "execution_count": 3,
   "metadata": {
    "collapsed": false
   },
   "outputs": [
    {
     "name": "stdout",
     "output_type": "stream",
     "text": [
      "count <class 'builtin_function_or_method'>\n",
      "index <class 'builtin_function_or_method'>\n",
      "test <class 'tensorflow.contrib.learn.python.learn.datasets.mnist.DataSet'>\n",
      "train <class 'tensorflow.contrib.learn.python.learn.datasets.mnist.DataSet'>\n",
      "validation <class 'tensorflow.contrib.learn.python.learn.datasets.mnist.DataSet'>\n"
     ]
    }
   ],
   "source": [
    "print_public_fields(mnist)"
   ]
  },
  {
   "cell_type": "code",
   "execution_count": 4,
   "metadata": {
    "collapsed": false
   },
   "outputs": [
    {
     "name": "stdout",
     "output_type": "stream",
     "text": [
      "epochs_completed <class 'int'>\n",
      "images <class 'numpy.ndarray'>\n",
      "labels <class 'numpy.ndarray'>\n",
      "next_batch <class 'method'>\n",
      "num_examples <class 'int'>\n"
     ]
    }
   ],
   "source": [
    "print_public_fields(mnist.test)"
   ]
  },
  {
   "cell_type": "markdown",
   "metadata": {},
   "source": [
    "### Check format of images"
   ]
  },
  {
   "cell_type": "code",
   "execution_count": 11,
   "metadata": {
    "collapsed": false
   },
   "outputs": [],
   "source": [
    "from matplotlib import pyplot as plt"
   ]
  },
  {
   "cell_type": "code",
   "execution_count": 32,
   "metadata": {
    "collapsed": false
   },
   "outputs": [
    {
     "data": {
      "image/png": "[encoded data removed]",
      "text/plain": [
       "<matplotlib.figure.Figure at 0x7f5201579470>"
      ]
     },
     "metadata": {},
     "output_type": "display_data"
    }
   ],
   "source": [
    "image = mnist.test.images[0]\n",
    "image = image.reshape((28, -1))\n",
    "plt.imshow(image)\n",
    "plt.show()"
   ]
  },
  {
   "cell_type": "code",
   "execution_count": 31,
   "metadata": {
    "collapsed": false
   },
   "outputs": [
    {
     "name": "stdout",
     "output_type": "stream",
     "text": [
      "Pixel values in range: [0.0; 1.0]\n"
     ]
    }
   ],
   "source": [
    "print(\"Pixel values in range: [{}; {}]\".format(image.min(), image.max()))"
   ]
  },
  {
   "cell_type": "markdown",
   "metadata": {},
   "source": [
    "### Train simple linear regression"
   ]
  },
  {
   "cell_type": "code",
   "execution_count": 2,
   "metadata": {
    "collapsed": false
   },
   "outputs": [],
   "source": [
    "img_len = 28*28\n",
    "num_classes = 10\n",
    "batch_size = 64 # Play with this parameter\n",
    "test_dataset_length = len(mnist.test.labels)"
   ]
  },
  {
   "cell_type": "code",
   "execution_count": 3,
   "metadata": {
    "collapsed": true
   },
   "outputs": [],
   "source": [
    "import tensorflow as tf"
   ]
  },
  {
   "cell_type": "code",
   "execution_count": 4,
   "metadata": {
    "collapsed": false
   },
   "outputs": [],
   "source": [
    "graph = tf.Graph()\n",
    "\n",
    "with graph.as_default():\n",
    "    Xs = tf.placeholder(tf.float32, shape=[None, img_len])\n",
    "    Ys = tf.placeholder(tf.float32, shape=[None, num_classes])\n",
    "    \n",
    "    W = tf.Variable(tf.truncated_normal(shape=[img_len, num_classes]))\n",
    "    b = tf.Variable(tf.zeros([num_classes]))\n",
    "    \n",
    "    logits = tf.matmul(Xs, W) + b\n",
    "    loss = tf.reduce_mean(tf.losses.softmax_cross_entropy(Ys, logits))\n",
    "    \n",
    "    optimizer = tf.train.GradientDescentOptimizer(0.5).minimize(loss)\n",
    "    \n",
    "    # test\n",
    "    test_predictions = tf.nn.softmax(tf.matmul(Xs, W) + b)\n",
    "    correct_prediction = tf.equal(tf.argmax(Ys,1), tf.argmax(test_predictions,1))\n",
    "    accuracy = tf.reduce_mean(tf.cast(correct_prediction, tf.float32))"
   ]
  },
  {
   "cell_type": "code",
   "execution_count": 7,
   "metadata": {
    "collapsed": false
   },
   "outputs": [
    {
     "name": "stdout",
     "output_type": "stream",
     "text": [
      "[0 step] Loss for validation dataset is 12.888274192810059\n",
      "[2000 step] Loss for validation dataset is 0.270382285118103\n",
      "[4000 step] Loss for validation dataset is 0.2436733841896057\n",
      "[6000 step] Loss for validation dataset is 0.2596595585346222\n",
      "[8000 step] Loss for validation dataset is 0.29431813955307007\n",
      "[10000 step] Loss for validation dataset is 0.21821440756320953\n",
      "[12000 step] Loss for validation dataset is 0.2246493250131607\n",
      "[14000 step] Loss for validation dataset is 0.2179436981678009\n",
      "[16000 step] Loss for validation dataset is 0.25291672348976135\n",
      "[18000 step] Loss for validation dataset is 0.24580085277557373\n",
      "Test accuracy is  0.9189\n"
     ]
    }
   ],
   "source": [
    "num_steps = 20000\n",
    "\n",
    "valid_data, valid_labels = mnist.validation.next_batch(batch_size)\n",
    "\n",
    "with tf.Session(graph=graph) as session:\n",
    "    tf.global_variables_initializer().run()\n",
    "    for step in range(num_steps):\n",
    "        train_data, train_labels = mnist.train.next_batch(batch_size)\n",
    "        l, _ = session.run([loss, optimizer], feed_dict={Xs: train_data, Ys: train_labels})\n",
    "        if step % 2000 == 0:\n",
    "            l = session.run(loss, feed_dict={Xs: valid_data, Ys: valid_labels})\n",
    "            print(\"[{} step] Loss for validation dataset is {}\".format(step, l))\n",
    "    \n",
    "    test_accuracy = session.run(accuracy, feed_dict={Xs: mnist.test.images, Ys: mnist.test.labels})\n",
    "    print(\"Test accuracy is \", test_accuracy)"
   ]
  },
  {
   "cell_type": "markdown",
   "metadata": {},
   "source": [
    "Complete these tutorials by yourself.\n",
    "\n",
    "* https://www.tensorflow.org/get_started/mnist/beginners\n",
    "* https://www.tensorflow.org/get_started/mnist/pros\n",
    "\n",
    "And read this article\n",
    "http://colah.github.io/posts/2015-09-Visual-Information/\n",
    "\n",
    "Also experiment with parameters and also try RNN from official Tensorflow tutorial on this link.\n",
    "https://www.tensorflow.org/tutorials/\n",
    "\n",
    "ALso if you have a time play with tutorials on the link above"
   ]
  },
  {
   "cell_type": "markdown",
   "metadata": {},
   "source": [
    "# Simple convolution neural network "
   ]
  },
  {
   "cell_type": "code",
   "execution_count": 8,
   "metadata": {
    "collapsed": true
   },
   "outputs": [],
   "source": [
    "def weight_variable(shape):\n",
    "    initial = tf.truncated_normal(shape, stddev=0.1)\n",
    "    return tf.Variable(initial)\n",
    "\n",
    "def bias_variable(shape):\n",
    "    initial = tf.zeros(shape)\n",
    "    return tf.Variable(initial)\n",
    "\n",
    "def conv2d(x, W):\n",
    "    return tf.nn.conv2d(x, W, strides=[1, 1, 1, 1], padding='SAME')\n",
    "\n",
    "def max_pool_2x2(x):\n",
    "    return tf.nn.max_pool(x, ksize=[1, 2, 2, 1], strides=[1, 2, 2, 1], padding='SAME')"
   ]
  },
  {
   "cell_type": "code",
   "execution_count": 10,
   "metadata": {
    "collapsed": false
   },
   "outputs": [],
   "source": [
    "num_classes = 10"
   ]
  },
  {
   "cell_type": "code",
   "execution_count": 20,
   "metadata": {
    "collapsed": false
   },
   "outputs": [],
   "source": [
    "graph = tf.Graph()\n",
    "\n",
    "with graph.as_default():\n",
    "    x = tf.placeholder(tf.float32, shape=[None, 784])\n",
    "    y_ = tf.placeholder(tf.float32, shape=[None, num_classes])\n",
    "    \n",
    "    x_image = tf.reshape(x, [-1, 28, 28, 1])\n",
    "    \n",
    "    W_conv1 = weight_variable([5, 5, 1, 32])\n",
    "    b_conv1 = bias_variable([32])\n",
    "    \n",
    "    h_conv1 = tf.nn.relu(conv2d(x_image, W_conv1) + b_conv1)\n",
    "    h_pool1 = max_pool_2x2(h_conv1)\n",
    "    \n",
    "    W_conv2 = weight_variable([5, 5, 32, 64])\n",
    "    b_conv2 = bias_variable([64])\n",
    "    \n",
    "    h_conv2 = tf.nn.relu(conv2d(h_pool1, W_conv2) + b_conv2)\n",
    "    h_pool2 = max_pool_2x2(h_conv2)\n",
    "    \n",
    "    W_fc1 = weight_variable([7*7*64, 1024])\n",
    "    b_fc1 = bias_variable([1024])\n",
    "    \n",
    "    h_pool2_flat = tf.reshape(h_pool2, [-1, 7*7*64])\n",
    "    h_fc1 = tf.nn.relu(tf.matmul(h_pool2_flat, W_fc1) + b_fc1)\n",
    "    \n",
    "    keep_prob = tf.placeholder(tf.float32)\n",
    "    h_fc1_drop = tf.nn.dropout(h_fc1, keep_prob)\n",
    "    \n",
    "    W_fc2 = weight_variable([1024, 10])\n",
    "    b_fc2 = bias_variable([10])\n",
    "    \n",
    "    y_conv = tf.matmul(h_fc1_drop, W_fc2) + b_fc2\n",
    "    \n",
    "    cross_entropy = tf.reduce_mean(tf.nn.softmax_cross_entropy_with_logits(labels=y_, logits=y_conv))\n",
    "    train_step = tf.train.AdamOptimizer(1e-4).minimize(cross_entropy)\n",
    "    correct_prediction = tf.equal(tf.argmax(y_, 1), tf.argmax(y_conv, 1))\n",
    "    accuracy = tf.reduce_mean(tf.cast(correct_prediction, tf.float32))"
   ]
  },
  {
   "cell_type": "code",
   "execution_count": 21,
   "metadata": {
    "collapsed": false
   },
   "outputs": [
    {
     "name": "stdout",
     "output_type": "stream",
     "text": [
      "step 0, training accuracy 0.05999999865889549\n",
      "step 100, training accuracy 0.8799999952316284\n",
      "step 200, training accuracy 0.9399999976158142\n",
      "step 300, training accuracy 0.8999999761581421\n",
      "step 400, training accuracy 0.9599999785423279\n",
      "step 500, training accuracy 0.9599999785423279\n",
      "step 600, training accuracy 0.9599999785423279\n",
      "step 700, training accuracy 0.9599999785423279\n",
      "step 800, training accuracy 0.9200000166893005\n",
      "step 900, training accuracy 0.9800000190734863\n",
      "step 1000, training accuracy 0.9599999785423279\n",
      "step 1100, training accuracy 1.0\n",
      "step 1200, training accuracy 0.8799999952316284\n",
      "step 1300, training accuracy 1.0\n",
      "step 1400, training accuracy 1.0\n",
      "step 1500, training accuracy 0.9599999785423279\n",
      "step 1600, training accuracy 0.9599999785423279\n",
      "step 1700, training accuracy 0.9800000190734863\n",
      "step 1800, training accuracy 0.9599999785423279\n",
      "step 1900, training accuracy 0.9800000190734863\n",
      "step 2000, training accuracy 1.0\n",
      "step 2100, training accuracy 0.9800000190734863\n",
      "step 2200, training accuracy 0.9599999785423279\n",
      "step 2300, training accuracy 0.9800000190734863\n",
      "step 2400, training accuracy 1.0\n",
      "step 2500, training accuracy 0.9599999785423279\n",
      "step 2600, training accuracy 0.9800000190734863\n",
      "step 2700, training accuracy 0.9800000190734863\n",
      "step 2800, training accuracy 1.0\n",
      "step 2900, training accuracy 0.9800000190734863\n",
      "step 3000, training accuracy 1.0\n",
      "step 3100, training accuracy 0.9599999785423279\n",
      "step 3200, training accuracy 0.9800000190734863\n",
      "step 3300, training accuracy 0.9800000190734863\n",
      "step 3400, training accuracy 1.0\n",
      "step 3500, training accuracy 0.9800000190734863\n",
      "step 3600, training accuracy 0.9800000190734863\n",
      "step 3700, training accuracy 0.9800000190734863\n",
      "step 3800, training accuracy 0.9800000190734863\n",
      "step 3900, training accuracy 1.0\n",
      "step 4000, training accuracy 0.9800000190734863\n",
      "step 4100, training accuracy 1.0\n",
      "step 4200, training accuracy 1.0\n",
      "step 4300, training accuracy 1.0\n",
      "step 4400, training accuracy 0.9800000190734863\n",
      "step 4500, training accuracy 0.9800000190734863\n",
      "step 4600, training accuracy 1.0\n",
      "step 4700, training accuracy 1.0\n",
      "step 4800, training accuracy 0.9800000190734863\n",
      "step 4900, training accuracy 1.0\n",
      "step 5000, training accuracy 1.0\n",
      "step 5100, training accuracy 0.9599999785423279\n",
      "step 5200, training accuracy 1.0\n",
      "step 5300, training accuracy 1.0\n",
      "step 5400, training accuracy 1.0\n",
      "step 5500, training accuracy 0.9800000190734863\n",
      "step 5600, training accuracy 1.0\n",
      "step 5700, training accuracy 1.0\n",
      "step 5800, training accuracy 1.0\n",
      "step 5900, training accuracy 1.0\n",
      "step 6000, training accuracy 0.9800000190734863\n",
      "step 6100, training accuracy 1.0\n",
      "step 6200, training accuracy 1.0\n",
      "step 6300, training accuracy 1.0\n",
      "step 6400, training accuracy 1.0\n",
      "step 6500, training accuracy 1.0\n",
      "step 6600, training accuracy 1.0\n",
      "step 6700, training accuracy 0.9800000190734863\n",
      "step 6800, training accuracy 0.9800000190734863\n",
      "step 6900, training accuracy 0.9599999785423279\n",
      "step 7000, training accuracy 0.9800000190734863\n",
      "step 7100, training accuracy 1.0\n",
      "step 7200, training accuracy 1.0\n",
      "step 7300, training accuracy 1.0\n",
      "step 7400, training accuracy 1.0\n",
      "step 7500, training accuracy 1.0\n",
      "step 7600, training accuracy 0.9800000190734863\n",
      "step 7700, training accuracy 1.0\n",
      "step 7800, training accuracy 1.0\n",
      "step 7900, training accuracy 1.0\n",
      "step 8000, training accuracy 1.0\n",
      "step 8100, training accuracy 1.0\n",
      "step 8200, training accuracy 1.0\n",
      "step 8300, training accuracy 0.9800000190734863\n",
      "step 8400, training accuracy 1.0\n",
      "step 8500, training accuracy 1.0\n",
      "step 8600, training accuracy 1.0\n",
      "step 8700, training accuracy 1.0\n",
      "step 8800, training accuracy 1.0\n",
      "step 8900, training accuracy 1.0\n",
      "step 9000, training accuracy 1.0\n",
      "step 9100, training accuracy 1.0\n",
      "step 9200, training accuracy 1.0\n",
      "step 9300, training accuracy 1.0\n",
      "step 9400, training accuracy 1.0\n",
      "step 9500, training accuracy 1.0\n",
      "step 9600, training accuracy 0.9800000190734863\n",
      "step 9700, training accuracy 1.0\n",
      "step 9800, training accuracy 0.9800000190734863\n",
      "step 9900, training accuracy 1.0\n",
      "step 10000, training accuracy 1.0\n",
      "step 10100, training accuracy 1.0\n",
      "step 10200, training accuracy 1.0\n",
      "step 10300, training accuracy 1.0\n",
      "step 10400, training accuracy 0.9599999785423279\n",
      "step 10500, training accuracy 1.0\n",
      "step 10600, training accuracy 1.0\n",
      "step 10700, training accuracy 1.0\n",
      "step 10800, training accuracy 1.0\n",
      "step 10900, training accuracy 1.0\n",
      "step 11000, training accuracy 1.0\n",
      "step 11100, training accuracy 1.0\n",
      "step 11200, training accuracy 1.0\n",
      "step 11300, training accuracy 1.0\n",
      "step 11400, training accuracy 1.0\n",
      "step 11500, training accuracy 1.0\n",
      "step 11600, training accuracy 1.0\n",
      "step 11700, training accuracy 1.0\n",
      "step 11800, training accuracy 1.0\n",
      "step 11900, training accuracy 1.0\n",
      "step 12000, training accuracy 1.0\n",
      "step 12100, training accuracy 1.0\n",
      "step 12200, training accuracy 1.0\n",
      "step 12300, training accuracy 1.0\n",
      "step 12400, training accuracy 1.0\n",
      "step 12500, training accuracy 1.0\n",
      "step 12600, training accuracy 1.0\n",
      "step 12700, training accuracy 1.0\n",
      "step 12800, training accuracy 1.0\n",
      "step 12900, training accuracy 1.0\n",
      "step 13000, training accuracy 1.0\n",
      "step 13100, training accuracy 1.0\n",
      "step 13200, training accuracy 0.9800000190734863\n",
      "step 13300, training accuracy 1.0\n",
      "step 13400, training accuracy 1.0\n",
      "step 13500, training accuracy 1.0\n",
      "step 13600, training accuracy 1.0\n",
      "step 13700, training accuracy 1.0\n",
      "step 13800, training accuracy 1.0\n",
      "step 13900, training accuracy 1.0\n",
      "step 14000, training accuracy 1.0\n",
      "step 14100, training accuracy 1.0\n",
      "step 14200, training accuracy 1.0\n",
      "step 14300, training accuracy 1.0\n",
      "step 14400, training accuracy 1.0\n",
      "step 14500, training accuracy 1.0\n",
      "step 14600, training accuracy 1.0\n",
      "step 14700, training accuracy 1.0\n",
      "step 14800, training accuracy 1.0\n",
      "step 14900, training accuracy 1.0\n",
      "step 15000, training accuracy 1.0\n",
      "step 15100, training accuracy 1.0\n",
      "step 15200, training accuracy 1.0\n",
      "step 15300, training accuracy 1.0\n",
      "step 15400, training accuracy 1.0\n",
      "step 15500, training accuracy 1.0\n",
      "step 15600, training accuracy 1.0\n",
      "step 15700, training accuracy 1.0\n",
      "step 15800, training accuracy 1.0\n",
      "step 15900, training accuracy 1.0\n",
      "step 16000, training accuracy 1.0\n",
      "step 16100, training accuracy 1.0\n",
      "step 16200, training accuracy 1.0\n",
      "step 16300, training accuracy 1.0\n",
      "step 16400, training accuracy 1.0\n",
      "step 16500, training accuracy 1.0\n",
      "step 16600, training accuracy 1.0\n",
      "step 16700, training accuracy 1.0\n",
      "step 16800, training accuracy 1.0\n",
      "step 16900, training accuracy 0.9800000190734863\n",
      "step 17000, training accuracy 1.0\n",
      "step 17100, training accuracy 1.0\n",
      "step 17200, training accuracy 1.0\n",
      "step 17300, training accuracy 1.0\n",
      "step 17400, training accuracy 1.0\n",
      "step 17500, training accuracy 1.0\n",
      "step 17600, training accuracy 1.0\n",
      "step 17700, training accuracy 1.0\n",
      "step 17800, training accuracy 1.0\n",
      "step 17900, training accuracy 1.0\n",
      "step 18000, training accuracy 1.0\n",
      "step 18100, training accuracy 1.0\n",
      "step 18200, training accuracy 1.0\n",
      "step 18300, training accuracy 1.0\n",
      "step 18400, training accuracy 1.0\n",
      "step 18500, training accuracy 1.0\n",
      "step 18600, training accuracy 1.0\n",
      "step 18700, training accuracy 1.0\n",
      "step 18800, training accuracy 1.0\n",
      "step 18900, training accuracy 1.0\n",
      "step 19000, training accuracy 1.0\n",
      "step 19100, training accuracy 1.0\n",
      "step 19200, training accuracy 1.0\n",
      "step 19300, training accuracy 1.0\n",
      "step 19400, training accuracy 1.0\n",
      "step 19500, training accuracy 1.0\n",
      "step 19600, training accuracy 1.0\n",
      "step 19700, training accuracy 1.0\n",
      "step 19800, training accuracy 1.0\n",
      "step 19900, training accuracy 1.0\n",
      "test accuracy 0.9927999973297119\n"
     ]
    }
   ],
   "source": [
    "with tf.Session(graph=graph) as sess:\n",
    "    sess.run(tf.global_variables_initializer())\n",
    "    for i in range(20000):\n",
    "        batch = mnist.train.next_batch(50)\n",
    "        if i % 100 == 0:\n",
    "            train_accuracy = accuracy.eval(feed_dict = {x: batch[0], y_: batch[1], keep_prob: 1.0})\n",
    "            print(\"step {}, training accuracy {}\".format(i, train_accuracy))\n",
    "        train_step.run(feed_dict={x: batch[0], y_: batch[1], keep_prob: 0.5})\n",
    "        \n",
    "    print(\"test accuracy {}\".format(accuracy.eval(feed_dict={\n",
    "                    x: mnist.test.images, y_: mnist.test.labels, keep_prob: 1.0})))"
   ]
  },
  {
   "cell_type": "markdown",
   "metadata": {},
   "source": [
    "------------"
   ]
  },
  {
   "cell_type": "markdown",
   "metadata": {},
   "source": [
    "# Implementing house numbers recognizer\n",
    "\n",
    "## Step 1: Design and test a model architecture that can identify sequences of digits in an image."
   ]
  },
  {
   "cell_type": "markdown",
   "metadata": {},
   "source": [
    "### Generate empty digit in a sequence"
   ]
  },
  {
   "cell_type": "code",
   "execution_count": 31,
   "metadata": {
    "collapsed": false
   },
   "outputs": [
    {
     "name": "stdout",
     "output_type": "stream",
     "text": [
      "-0.0705977004075\n"
     ]
    },
    {
     "data": {
      "image/png": "[encoded data removed]",
      "text/plain": [
       "<matplotlib.figure.Figure at 0x7f5f4b4bdbe0>"
      ]
     },
     "metadata": {},
     "output_type": "display_data"
    }
   ],
   "source": [
    "img = np.random.normal(size=[28, 28])\n",
    "print(img.mean())\n",
    "plt.imshow(img)\n",
    "plt.show()"
   ]
  },
  {
   "cell_type": "code",
   "execution_count": 37,
   "metadata": {
    "collapsed": false
   },
   "outputs": [
    {
     "data": {
      "text/plain": [
       "55000"
      ]
     },
     "execution_count": 37,
     "metadata": {},
     "output_type": "execute_result"
    }
   ],
   "source": [
    "len(mnist.train.labels)"
   ]
  },
  {
   "cell_type": "markdown",
   "metadata": {},
   "source": [
    "### Working for batch generator  \n",
    "Input data is 1 'long' image obtained   \n",
    "from merging 5 images with digits and some empty images  \n",
    "\n",
    "Labels are for 6 classifiers.  \n",
    "Each responds for it's digit and one respond for length of sequence \n",
    "\n",
    "Ideas:\n",
    "* To make batches uniform we will generate sequencies from 1 to 5 and repeat\n",
    "\n",
    "Q\n",
    "In SVHM dataset digits not always at the same positions\n",
    "Will it be good to learn not only\n",
    "```\n",
    "d d d * * *\n",
    "d * * * * *\n",
    "\n",
    "but also these ?\n",
    "* * d d d d\n",
    "* d * d * d\n",
    "```"
   ]
  },
  {
   "cell_type": "code",
   "execution_count": 106,
   "metadata": {
    "collapsed": true
   },
   "outputs": [],
   "source": [
    "# Optimize this shit someone\n",
    "class BatchGenerator:\n",
    "    def __init__(self, mnist, digits_limit=5):\n",
    "        # self._mnist = mnist\n",
    "        self._num_classes = 11 # 10 for digits and 1 for 'no digit'\n",
    "        self._digits_limit = digits_limit\n",
    "        \n",
    "    def _noise_image(self):\n",
    "        img = np.random.normal(0, 0.1, size=[28, 28])\n",
    "        diff = img.max() - img.min()\n",
    "        norm_img = (img - img.min()) / diff\n",
    "        return norm_img\n",
    "        \n",
    "    def _empty_image(self):\n",
    "        return np.zeros([28, 28])\n",
    "    \n",
    "    def _empty_label(self):\n",
    "        zeros = np.zeros([11])\n",
    "        zeros[-1] = 1\n",
    "        return zeros\n",
    "    \n",
    "    # fixme: maybe too long names for variables\n",
    "    def next_image(self, digits_count):\n",
    "        '''\n",
    "        Returns \n",
    "        \n",
    "        First val: image with digits\n",
    "        image of shape [28, 28*self.__digits_limit]\n",
    "        where Each 28x28 part is a image from MNIST dataset\n",
    "        or normalized to [0, 1] empty image (numpy.random.normal())\n",
    "        or just zero filled matrix\n",
    "        \n",
    "        Second val: labels for top digits classifiers (by default there is 5 of them)\n",
    "        array of shape [self.__digits_limit, 10]\n",
    "        label for empty image is [0 x 10]\n",
    "        \n",
    "        Third value: count of empty images used here\n",
    "        '''\n",
    "        digits, digits_labels = mnist.train.next_batch(digits_count)\n",
    "        digits = digits.reshape([-1, 28, 28]) # vec to image\n",
    "        \n",
    "        # Generate long image with digits_count in it\n",
    "        image_parts = np.empty([self._digits_limit, 28, 28])\n",
    "        image_parts[:digits_count] = digits\n",
    "        image_parts[digits_count:self._digits_limit] = self._empty_image()\n",
    "        \n",
    "        image = np.hstack(image_parts)\n",
    "        \n",
    "        # Generate labels\n",
    "        labels = np.empty([self._digits_limit, 11])\n",
    "        labels[:, -1] = 0 # last digit for 'unknown' labels\n",
    "        labels[:digits_count, :-1] = digits_labels\n",
    "        labels[digits_count:self._digits_limit] = self._empty_label()\n",
    "        \n",
    "        return image, labels, digits_count\n",
    "    \n",
    "    # It can be done in a faster way using numpy operations\n",
    "    # Rewrite it later\n",
    "    def next(self, count):\n",
    "        images = np.empty([count, 28, 28*self._digits_limit])\n",
    "        labels = np.empty([count, self._digits_limit, 11])\n",
    "        digits_counts = np.empty(count)\n",
    "        \n",
    "        for i in range(count):\n",
    "            digits_count = i % self._digits_limit + 1\n",
    "            images[i], labels[i], digits_counts[i] = self.next_image(digits_count)\n",
    "        \n",
    "        labels = (np.hstack(labels)).reshape([self._digits_limit, -1, 11])\n",
    "        images = images.reshape([count, 28, 28*self._digits_limit, 1]) # Add one last channel dimension\n",
    "        digits_counts = digits_counts.reshape([-1, 1])\n",
    "        return images, labels, digits_counts"
   ]
  },
  {
   "cell_type": "code",
   "execution_count": 81,
   "metadata": {
    "collapsed": false
   },
   "outputs": [
    {
     "data": {
      "image/png": "[encoded data removed]",
      "text/plain": [
       "<matplotlib.figure.Figure at 0x7f5dae613198>"
      ]
     },
     "metadata": {},
     "output_type": "display_data"
    },
    {
     "name": "stdout",
     "output_type": "stream",
     "text": [
      "On this image is (are) 4 digit(s)\n",
      "[[ 0.  0.  0.  1.  0.  0.  0.  0.  0.  0.  0.]\n",
      " [ 0.  0.  1.  0.  0.  0.  0.  0.  0.  0.  0.]\n",
      " [ 0.  0.  0.  0.  0.  0.  0.  0.  0.  1.  0.]\n",
      " [ 0.  0.  0.  0.  1.  0.  0.  0.  0.  0.  0.]\n",
      " [ 0.  0.  0.  0.  0.  0.  0.  0.  0.  0.  1.]]\n"
     ]
    }
   ],
   "source": [
    "bg = BatchGenerator(mnist, 5)\n",
    "image, labels, digits_count = bg.next_image(4)\n",
    "plt.imshow(image)\n",
    "plt.show()\n",
    "print(f'On this image is (are) {digits_count} digit(s)')\n",
    "print(labels)"
   ]
  },
  {
   "cell_type": "code",
   "execution_count": 82,
   "metadata": {
    "collapsed": false
   },
   "outputs": [
    {
     "data": {
      "text/plain": [
       "(array([[[[ 0.],\n",
       "          [ 0.],\n",
       "          [ 0.],\n",
       "          ..., \n",
       "          [ 0.],\n",
       "          [ 0.],\n",
       "          [ 0.]],\n",
       " \n",
       "         [[ 0.],\n",
       "          [ 0.],\n",
       "          [ 0.],\n",
       "          ..., \n",
       "          [ 0.],\n",
       "          [ 0.],\n",
       "          [ 0.]],\n",
       " \n",
       "         [[ 0.],\n",
       "          [ 0.],\n",
       "          [ 0.],\n",
       "          ..., \n",
       "          [ 0.],\n",
       "          [ 0.],\n",
       "          [ 0.]],\n",
       " \n",
       "         ..., \n",
       "         [[ 0.],\n",
       "          [ 0.],\n",
       "          [ 0.],\n",
       "          ..., \n",
       "          [ 0.],\n",
       "          [ 0.],\n",
       "          [ 0.]],\n",
       " \n",
       "         [[ 0.],\n",
       "          [ 0.],\n",
       "          [ 0.],\n",
       "          ..., \n",
       "          [ 0.],\n",
       "          [ 0.],\n",
       "          [ 0.]],\n",
       " \n",
       "         [[ 0.],\n",
       "          [ 0.],\n",
       "          [ 0.],\n",
       "          ..., \n",
       "          [ 0.],\n",
       "          [ 0.],\n",
       "          [ 0.]]],\n",
       " \n",
       " \n",
       "        [[[ 0.],\n",
       "          [ 0.],\n",
       "          [ 0.],\n",
       "          ..., \n",
       "          [ 0.],\n",
       "          [ 0.],\n",
       "          [ 0.]],\n",
       " \n",
       "         [[ 0.],\n",
       "          [ 0.],\n",
       "          [ 0.],\n",
       "          ..., \n",
       "          [ 0.],\n",
       "          [ 0.],\n",
       "          [ 0.]],\n",
       " \n",
       "         [[ 0.],\n",
       "          [ 0.],\n",
       "          [ 0.],\n",
       "          ..., \n",
       "          [ 0.],\n",
       "          [ 0.],\n",
       "          [ 0.]],\n",
       " \n",
       "         ..., \n",
       "         [[ 0.],\n",
       "          [ 0.],\n",
       "          [ 0.],\n",
       "          ..., \n",
       "          [ 0.],\n",
       "          [ 0.],\n",
       "          [ 0.]],\n",
       " \n",
       "         [[ 0.],\n",
       "          [ 0.],\n",
       "          [ 0.],\n",
       "          ..., \n",
       "          [ 0.],\n",
       "          [ 0.],\n",
       "          [ 0.]],\n",
       " \n",
       "         [[ 0.],\n",
       "          [ 0.],\n",
       "          [ 0.],\n",
       "          ..., \n",
       "          [ 0.],\n",
       "          [ 0.],\n",
       "          [ 0.]]],\n",
       " \n",
       " \n",
       "        [[[ 0.],\n",
       "          [ 0.],\n",
       "          [ 0.],\n",
       "          ..., \n",
       "          [ 0.],\n",
       "          [ 0.],\n",
       "          [ 0.]],\n",
       " \n",
       "         [[ 0.],\n",
       "          [ 0.],\n",
       "          [ 0.],\n",
       "          ..., \n",
       "          [ 0.],\n",
       "          [ 0.],\n",
       "          [ 0.]],\n",
       " \n",
       "         [[ 0.],\n",
       "          [ 0.],\n",
       "          [ 0.],\n",
       "          ..., \n",
       "          [ 0.],\n",
       "          [ 0.],\n",
       "          [ 0.]],\n",
       " \n",
       "         ..., \n",
       "         [[ 0.],\n",
       "          [ 0.],\n",
       "          [ 0.],\n",
       "          ..., \n",
       "          [ 0.],\n",
       "          [ 0.],\n",
       "          [ 0.]],\n",
       " \n",
       "         [[ 0.],\n",
       "          [ 0.],\n",
       "          [ 0.],\n",
       "          ..., \n",
       "          [ 0.],\n",
       "          [ 0.],\n",
       "          [ 0.]],\n",
       " \n",
       "         [[ 0.],\n",
       "          [ 0.],\n",
       "          [ 0.],\n",
       "          ..., \n",
       "          [ 0.],\n",
       "          [ 0.],\n",
       "          [ 0.]]],\n",
       " \n",
       " \n",
       "        ..., \n",
       "        [[[ 0.],\n",
       "          [ 0.],\n",
       "          [ 0.],\n",
       "          ..., \n",
       "          [ 0.],\n",
       "          [ 0.],\n",
       "          [ 0.]],\n",
       " \n",
       "         [[ 0.],\n",
       "          [ 0.],\n",
       "          [ 0.],\n",
       "          ..., \n",
       "          [ 0.],\n",
       "          [ 0.],\n",
       "          [ 0.]],\n",
       " \n",
       "         [[ 0.],\n",
       "          [ 0.],\n",
       "          [ 0.],\n",
       "          ..., \n",
       "          [ 0.],\n",
       "          [ 0.],\n",
       "          [ 0.]],\n",
       " \n",
       "         ..., \n",
       "         [[ 0.],\n",
       "          [ 0.],\n",
       "          [ 0.],\n",
       "          ..., \n",
       "          [ 0.],\n",
       "          [ 0.],\n",
       "          [ 0.]],\n",
       " \n",
       "         [[ 0.],\n",
       "          [ 0.],\n",
       "          [ 0.],\n",
       "          ..., \n",
       "          [ 0.],\n",
       "          [ 0.],\n",
       "          [ 0.]],\n",
       " \n",
       "         [[ 0.],\n",
       "          [ 0.],\n",
       "          [ 0.],\n",
       "          ..., \n",
       "          [ 0.],\n",
       "          [ 0.],\n",
       "          [ 0.]]],\n",
       " \n",
       " \n",
       "        [[[ 0.],\n",
       "          [ 0.],\n",
       "          [ 0.],\n",
       "          ..., \n",
       "          [ 0.],\n",
       "          [ 0.],\n",
       "          [ 0.]],\n",
       " \n",
       "         [[ 0.],\n",
       "          [ 0.],\n",
       "          [ 0.],\n",
       "          ..., \n",
       "          [ 0.],\n",
       "          [ 0.],\n",
       "          [ 0.]],\n",
       " \n",
       "         [[ 0.],\n",
       "          [ 0.],\n",
       "          [ 0.],\n",
       "          ..., \n",
       "          [ 0.],\n",
       "          [ 0.],\n",
       "          [ 0.]],\n",
       " \n",
       "         ..., \n",
       "         [[ 0.],\n",
       "          [ 0.],\n",
       "          [ 0.],\n",
       "          ..., \n",
       "          [ 0.],\n",
       "          [ 0.],\n",
       "          [ 0.]],\n",
       " \n",
       "         [[ 0.],\n",
       "          [ 0.],\n",
       "          [ 0.],\n",
       "          ..., \n",
       "          [ 0.],\n",
       "          [ 0.],\n",
       "          [ 0.]],\n",
       " \n",
       "         [[ 0.],\n",
       "          [ 0.],\n",
       "          [ 0.],\n",
       "          ..., \n",
       "          [ 0.],\n",
       "          [ 0.],\n",
       "          [ 0.]]],\n",
       " \n",
       " \n",
       "        [[[ 0.],\n",
       "          [ 0.],\n",
       "          [ 0.],\n",
       "          ..., \n",
       "          [ 0.],\n",
       "          [ 0.],\n",
       "          [ 0.]],\n",
       " \n",
       "         [[ 0.],\n",
       "          [ 0.],\n",
       "          [ 0.],\n",
       "          ..., \n",
       "          [ 0.],\n",
       "          [ 0.],\n",
       "          [ 0.]],\n",
       " \n",
       "         [[ 0.],\n",
       "          [ 0.],\n",
       "          [ 0.],\n",
       "          ..., \n",
       "          [ 0.],\n",
       "          [ 0.],\n",
       "          [ 0.]],\n",
       " \n",
       "         ..., \n",
       "         [[ 0.],\n",
       "          [ 0.],\n",
       "          [ 0.],\n",
       "          ..., \n",
       "          [ 0.],\n",
       "          [ 0.],\n",
       "          [ 0.]],\n",
       " \n",
       "         [[ 0.],\n",
       "          [ 0.],\n",
       "          [ 0.],\n",
       "          ..., \n",
       "          [ 0.],\n",
       "          [ 0.],\n",
       "          [ 0.]],\n",
       " \n",
       "         [[ 0.],\n",
       "          [ 0.],\n",
       "          [ 0.],\n",
       "          ..., \n",
       "          [ 0.],\n",
       "          [ 0.],\n",
       "          [ 0.]]]]),\n",
       " array([[[ 0.,  1.,  0.,  0.,  0.,  0.,  0.,  0.,  0.,  0.,  0.],\n",
       "         [ 0.,  0.,  0.,  0.,  0.,  0.,  0.,  1.,  0.,  0.,  0.],\n",
       "         [ 0.,  0.,  1.,  0.,  0.,  0.,  0.,  0.,  0.,  0.,  0.],\n",
       "         [ 0.,  0.,  1.,  0.,  0.,  0.,  0.,  0.,  0.,  0.,  0.],\n",
       "         [ 0.,  0.,  1.,  0.,  0.,  0.,  0.,  0.,  0.,  0.,  0.],\n",
       "         [ 0.,  0.,  1.,  0.,  0.,  0.,  0.,  0.,  0.,  0.,  0.],\n",
       "         [ 0.,  0.,  1.,  0.,  0.,  0.,  0.,  0.,  0.,  0.,  0.],\n",
       "         [ 0.,  1.,  0.,  0.,  0.,  0.,  0.,  0.,  0.,  0.,  0.],\n",
       "         [ 0.,  0.,  0.,  0.,  0.,  1.,  0.,  0.,  0.,  0.,  0.],\n",
       "         [ 0.,  0.,  0.,  1.,  0.,  0.,  0.,  0.,  0.,  0.,  0.]],\n",
       " \n",
       "        [[ 0.,  0.,  0.,  0.,  0.,  0.,  0.,  0.,  0.,  0.,  1.],\n",
       "         [ 1.,  0.,  0.,  0.,  0.,  0.,  0.,  0.,  0.,  0.,  0.],\n",
       "         [ 0.,  0.,  0.,  0.,  0.,  0.,  0.,  0.,  1.,  0.,  0.],\n",
       "         [ 0.,  1.,  0.,  0.,  0.,  0.,  0.,  0.,  0.,  0.,  0.],\n",
       "         [ 0.,  0.,  0.,  0.,  0.,  1.,  0.,  0.,  0.,  0.,  0.],\n",
       "         [ 0.,  0.,  0.,  0.,  0.,  0.,  0.,  0.,  0.,  0.,  1.],\n",
       "         [ 0.,  0.,  0.,  0.,  0.,  0.,  0.,  1.,  0.,  0.,  0.],\n",
       "         [ 1.,  0.,  0.,  0.,  0.,  0.,  0.,  0.,  0.,  0.,  0.],\n",
       "         [ 0.,  0.,  0.,  0.,  0.,  0.,  0.,  0.,  0.,  1.,  0.],\n",
       "         [ 0.,  0.,  0.,  0.,  1.,  0.,  0.,  0.,  0.,  0.,  0.]],\n",
       " \n",
       "        [[ 0.,  0.,  0.,  0.,  0.,  0.,  0.,  0.,  0.,  0.,  1.],\n",
       "         [ 0.,  0.,  0.,  0.,  0.,  0.,  0.,  0.,  0.,  0.,  1.],\n",
       "         [ 1.,  0.,  0.,  0.,  0.,  0.,  0.,  0.,  0.,  0.,  0.],\n",
       "         [ 0.,  0.,  0.,  1.,  0.,  0.,  0.,  0.,  0.,  0.,  0.],\n",
       "         [ 0.,  0.,  0.,  0.,  0.,  0.,  0.,  0.,  0.,  1.,  0.],\n",
       "         [ 0.,  0.,  0.,  0.,  0.,  0.,  0.,  0.,  0.,  0.,  1.],\n",
       "         [ 0.,  0.,  0.,  0.,  0.,  0.,  0.,  0.,  0.,  0.,  1.],\n",
       "         [ 1.,  0.,  0.,  0.,  0.,  0.,  0.,  0.,  0.,  0.,  0.],\n",
       "         [ 0.,  0.,  0.,  0.,  0.,  1.,  0.,  0.,  0.,  0.,  0.],\n",
       "         [ 0.,  0.,  0.,  0.,  0.,  1.,  0.,  0.,  0.,  0.,  0.]],\n",
       " \n",
       "        [[ 0.,  0.,  0.,  0.,  0.,  0.,  0.,  0.,  0.,  0.,  1.],\n",
       "         [ 0.,  0.,  0.,  0.,  0.,  0.,  0.,  0.,  0.,  0.,  1.],\n",
       "         [ 0.,  0.,  0.,  0.,  0.,  0.,  0.,  0.,  0.,  0.,  1.],\n",
       "         [ 1.,  0.,  0.,  0.,  0.,  0.,  0.,  0.,  0.,  0.,  0.],\n",
       "         [ 0.,  1.,  0.,  0.,  0.,  0.,  0.,  0.,  0.,  0.,  0.],\n",
       "         [ 0.,  0.,  0.,  0.,  0.,  0.,  0.,  0.,  0.,  0.,  1.],\n",
       "         [ 0.,  0.,  0.,  0.,  0.,  0.,  0.,  0.,  0.,  0.,  1.],\n",
       "         [ 0.,  0.,  0.,  0.,  0.,  0.,  0.,  0.,  0.,  0.,  1.],\n",
       "         [ 0.,  1.,  0.,  0.,  0.,  0.,  0.,  0.,  0.,  0.,  0.],\n",
       "         [ 0.,  0.,  0.,  0.,  0.,  0.,  0.,  0.,  1.,  0.,  0.]],\n",
       " \n",
       "        [[ 0.,  0.,  0.,  0.,  0.,  0.,  0.,  0.,  0.,  0.,  1.],\n",
       "         [ 0.,  0.,  0.,  0.,  0.,  0.,  0.,  0.,  0.,  0.,  1.],\n",
       "         [ 0.,  0.,  0.,  0.,  0.,  0.,  0.,  0.,  0.,  0.,  1.],\n",
       "         [ 0.,  0.,  0.,  0.,  0.,  0.,  0.,  0.,  0.,  0.,  1.],\n",
       "         [ 0.,  0.,  0.,  0.,  0.,  0.,  0.,  0.,  1.,  0.,  0.],\n",
       "         [ 0.,  0.,  0.,  0.,  0.,  0.,  0.,  0.,  0.,  0.,  1.],\n",
       "         [ 0.,  0.,  0.,  0.,  0.,  0.,  0.,  0.,  0.,  0.,  1.],\n",
       "         [ 0.,  0.,  0.,  0.,  0.,  0.,  0.,  0.,  0.,  0.,  1.],\n",
       "         [ 0.,  0.,  0.,  0.,  0.,  0.,  0.,  0.,  0.,  0.,  1.],\n",
       "         [ 0.,  0.,  0.,  0.,  1.,  0.,  0.,  0.,  0.,  0.,  0.]]]),\n",
       " array([ 1.,  2.,  3.,  4.,  5.,  1.,  2.,  3.,  4.,  5.]))"
      ]
     },
     "execution_count": 82,
     "metadata": {},
     "output_type": "execute_result"
    }
   ],
   "source": [
    "bg.next(10)"
   ]
  },
  {
   "cell_type": "markdown",
   "metadata": {},
   "source": [
    "### Neural network"
   ]
  },
  {
   "cell_type": "code",
   "execution_count": 102,
   "metadata": {
    "collapsed": true
   },
   "outputs": [],
   "source": [
    "# Operations wrappers\n",
    "def weights_variable(shape):\n",
    "    initial = tf.truncated_normal(shape, stddev = 0.2)\n",
    "    return tf.Variable(initial)\n",
    "\n",
    "def bias_variable(shape):\n",
    "    initial = tf.zeros(shape)\n",
    "    return tf.Variable(initial)\n",
    "\n",
    "def conv2d(x, W):\n",
    "    return tf.nn.conv2d(x, W, strides=[1,1,1,1], padding='SAME')\n",
    "\n",
    "def max_pool2x2(x):\n",
    "    return tf.nn.max_pool(x, ksize=[1,2,2,1], strides=[1,2,2,1], padding='SAME')"
   ]
  },
  {
   "cell_type": "code",
   "execution_count": 103,
   "metadata": {
    "collapsed": true
   },
   "outputs": [],
   "source": [
    "digits_per_image = 5\n",
    "num_classes = 11"
   ]
  },
  {
   "cell_type": "code",
   "execution_count": 114,
   "metadata": {
    "collapsed": false
   },
   "outputs": [
    {
     "name": "stdout",
     "output_type": "stream",
     "text": [
      "(?, 7, 35, 64) 15680\n"
     ]
    }
   ],
   "source": [
    "graph = tf.Graph()\n",
    "\n",
    "with graph.as_default():\n",
    "    # conv > pool > conv > pool > fc1 > dropout > (5 or more linear classifiers and 1 for digits count)\n",
    "    x = tf.placeholder(tf.float32, shape=[None, 28, digits_per_image*28, 1])\n",
    "    ys = tf.placeholder(tf.float32, shape=[digits_per_image, None, num_classes])\n",
    "    y_cnt = tf.placeholder(tf.float32, shape=[None, 1])\n",
    "    \n",
    "    W_conv1 = weights_variable([5, 5, 1, 32])\n",
    "    b_conv1 = bias_variable(32)\n",
    "    \n",
    "    h_conv1 = tf.nn.relu(conv2d(x, W_conv1) + b_conv1)\n",
    "    h_pool1 = max_pool2x2(h_conv1)\n",
    "    \n",
    "    W_conv2 = weights_variable([5, 5, 32, 64])\n",
    "    b_conv2 = bias_variable(64)\n",
    "    \n",
    "    h_conv2 = tf.nn.relu(conv2d(h_pool1, W_conv2) + b_conv2)\n",
    "    h_pool2 = max_pool2x2(h_conv2)\n",
    "    \n",
    "    # A little bit hacky.\n",
    "    # I should learn to calc conv shapes in mind on fly\n",
    "    flat_size = int(h_pool2.shape[1] * h_pool2.shape[2] * h_pool2.shape[3])\n",
    "    print(h_pool2.shape, flat_size)\n",
    "    \n",
    "    fc1_size = 1024\n",
    "    W_fc1 = weights_variable([flat_size, fc1_size])\n",
    "    b_fc1 = bias_variable([fc1_size])\n",
    "    \n",
    "    h_pool2_flat = tf.reshape(h_pool2, [-1, flat_size])\n",
    "    h_fc1 = tf.nn.relu(tf.matmul(h_pool2_flat, W_fc1) + b_fc1)\n",
    "    \n",
    "    keep_prob = tf.placeholder(tf.float32)\n",
    "    dropout = tf.nn.dropout(h_fc1, keep_prob)\n",
    "    \n",
    "    image_embeds = dropout\n",
    "       \n",
    "    classifiers_count = digits_per_image\n",
    "    classifiers_weights = weights_variable([classifiers_count, fc1_size, num_classes])\n",
    "    classifiers_biases = bias_variable([classifiers_count, num_classes])\n",
    "    \n",
    "    # Classifiers\n",
    "    # ======================================================\n",
    "    losses = [None for i in range(classifiers_count)]\n",
    "    logits = [None for i in range(classifiers_count)]\n",
    "    \n",
    "    for i in range(classifiers_count):\n",
    "        w = classifiers_weights[i]\n",
    "        b = classifiers_biases[i]\n",
    "        logits[i] = tf.matmul(image_embeds,w)+b\n",
    "        cross_entropy = tf.nn.softmax_cross_entropy_with_logits(labels=ys[i], logits=logits[i])\n",
    "        loss = tf.reduce_mean(cross_entropy)\n",
    "        losses[i] = loss\n",
    "    \n",
    "    # Training\n",
    "    # Todo read about these optimizers\n",
    "    # Fortunately there is a good course on Coursera\n",
    "    optimizer = tf.train.AdamOptimizer(learning_rate=0.005)\n",
    "    # I found 2 approaches:\n",
    "    # ======================================================\n",
    "    # 1 - minimize the summ (or maybe average) of losses of all classifiers\n",
    "    summary_loss = 0\n",
    "    for i in range(classifiers_count):\n",
    "        summary_loss += losses[i]\n",
    "    train_step = optimizer.minimize(summary_loss)\n",
    "       \n",
    "    # ======================================================\n",
    "    # 2 - minimize each classifier separately\n",
    "    # Seems like a much better solution\n",
    "    # Just use array of optimizers and optimize in cycle for each loss\n",
    "    train_steps = [None for i in range(classifiers_count)]\n",
    "    for i in range(classifiers_count):\n",
    "        train_steps[i] = optimizer.minimize(losses[i])\n",
    "    \n",
    "    # Digits classifier\n",
    "    # ======================================================\n",
    "    # Train digits_count classifier\n",
    "    # Todo think how to make this code cleaner. Maybe classes for classifiers?\n",
    "    w = weights_variable([fc1_size, 1])\n",
    "    b = bias_variable([1])\n",
    "    digits_counts_logits = tf.matmul(image_embeds, w) + b\n",
    "    mse_digits_cnt = tf.reduce_mean(tf.squared_difference(digits_counts_logits, y_cnt))\n",
    "    train_step_digits_cnt = optimizer.minimize(mse_digits_cnt)"
   ]
  },
  {
   "cell_type": "code",
   "execution_count": 117,
   "metadata": {
    "collapsed": false
   },
   "outputs": [
    {
     "name": "stdout",
     "output_type": "stream",
     "text": [
      "step 0\n",
      "652.322\n",
      "Digits counts classifier MSE loss: 7895.75634765625\n",
      "==================================================\n",
      "step 10\n",
      "1071.37\n",
      "Digits counts classifier MSE loss: 2444754.75\n",
      "==================================================\n",
      "step 20\n",
      "513.889\n",
      "Digits counts classifier MSE loss: 44694.2734375\n",
      "==================================================\n",
      "step 30\n",
      "257.479\n",
      "Digits counts classifier MSE loss: 41127.125\n",
      "==================================================\n",
      "step 40\n",
      "158.324\n",
      "Digits counts classifier MSE loss: 31783.09765625\n",
      "==================================================\n"
     ]
    }
   ],
   "source": [
    "num_steps = 50\n",
    "bg = BatchGenerator(digits_per_image)\n",
    "batch_size = 64\n",
    "training_approach = \"use summary loss\"\n",
    "\n",
    "with tf.Session(graph=graph) as session:\n",
    "    session.run(tf.global_variables_initializer())\n",
    "    for i in range(num_steps):\n",
    "        images, labels, empties_counts = bg.next(batch_size)\n",
    "        feed_dict = {\n",
    "            x: images,\n",
    "            ys: labels,\n",
    "            y_cnt: empties_counts,\n",
    "            keep_prob: 1.0\n",
    "        }\n",
    "\n",
    "        # Training\n",
    "        if i % 10 == 0:\n",
    "            print(f'step {i}')\n",
    "            if training_approach == \"use summary loss\":\n",
    "                # 1-st variant (look in graph)\n",
    "                l, _ = session.run([summary_loss, train_step], feed_dict = feed_dict)\n",
    "                print(l)\n",
    "            else:\n",
    "                # 2-nd variant (look in graph)\n",
    "                for j in range(digits_per_image):\n",
    "                    l, _ = session.run([losses[j], train_steps[j]], feed_dict = feed_dict)\n",
    "                    print(f'{j} classifier loss: {l}')\n",
    "                \n",
    "            # I wonder. If each time of we train one of classifiers all CNN layers also be trained.\n",
    "            # I think, yes. And then 1-st method is better    \n",
    "            digits_cnt_loss, _ = session.run([mse_digits_cnt, train_step_digits_cnt], feed_dict = feed_dict)\n",
    "            print(f'Digits counts classifier MSE loss: {digits_cnt_loss}')\n",
    "            print('=====' * 10)"
   ]
  },
  {
   "cell_type": "markdown",
   "metadata": {},
   "source": [
    "### Work for bugs\n",
    "Can't see overfitting. All weights in range [-0.5, 0.5]  \n",
    "But results become very bad after ~20-30th iteration\n",
    "\n",
    "Any ideas?\n",
    "-----\n",
    "Yes!\n",
    "\n",
    "|Solved?|Problem or suggestion|\n",
    "|-|--|\n",
    "|YES!| Maybe problem is in encoding of empty image  \n",
    "| | Need regularization for covnet  \n",
    "| | Need optimizer with Descending learning rate  \n",
    "| | Bad dropout placement in network architecture  \n",
    "|YES!| maybe there should not be 0 images or empty images nullifying all weights (check 1 item of this list)  \n",
    "| | Maybe add layer on the top of last NN layer\n",
    "\n",
    "Overfitting with empty images labels encoded as zeros arrays\n",
    "-------\n",
    "Seems like classifiers were overfitted by the empty digits label, which was a batch of zeros.  \n",
    "So it also seems like there are many empty digits in batch  \n",
    "**TODO** Reduce number of empty_digits in batch  \n",
    "Also last classifier getting more empty digits than first. It's not fair!"
   ]
  },
  {
   "cell_type": "markdown",
   "metadata": {},
   "source": [
    "Also with every graph execution around 1Gb dissapears"
   ]
  },
  {
   "cell_type": "markdown",
   "metadata": {},
   "source": [
    "that to run first: optimizer or loss function?  \n",
    "-----\n",
    "I think optimizer, thel loss. In that case we will   \n",
    "know loss at the end after last call of optimizer"
   ]
  },
  {
   "cell_type": "markdown",
   "metadata": {},
   "source": [
    "Train each classifier separately or all in once?\n",
    "---------\n",
    "\n",
    "If we train them separately, we can give more information about their training.  \n",
    "Thanks to that I found out that classifier for last digit will get more empty images, than first.  \n",
    "And so it's easy to overfit to empty images.  \n",
    "\n",
    "But every time we train each classifier, we also train all CNN before.  \n",
    "It's a very expensive.  \n",
    "\n",
    "For example 5 minutes vs 10 seconds (when training all at once).  "
   ]
  }
 ],
 "metadata": {
  "anaconda-cloud": {},
  "kernelspec": {
   "display_name": "Python [conda env:py_36]",
   "language": "python",
   "name": "conda-env-py_36-py"
  },
  "language_info": {
   "codemirror_mode": {
    "name": "ipython",
    "version": 3
   },
   "file_extension": ".py",
   "mimetype": "text/x-python",
   "name": "python",
   "nbconvert_exporter": "python",
   "pygments_lexer": "ipython3",
   "version": "3.6.2"
  }
 },
 "nbformat": 4,
 "nbformat_minor": 1
}
