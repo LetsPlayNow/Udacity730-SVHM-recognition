{
 "cells": [
  {
   "cell_type": "markdown",
   "metadata": {
    "nbpresent": {
     "id": "c4881ee8-2d56-4832-94a2-b82fea602add"
    }
   },
   "source": [
    "# At first, play a bit with MNIST"
   ]
  },
  {
   "cell_type": "code",
   "execution_count": 2,
   "metadata": {
    "collapsed": false,
    "nbpresent": {
     "id": "0166092c-2800-4a2b-ae5d-adb169497a74"
    }
   },
   "outputs": [
    {
     "name": "stdout",
     "output_type": "stream",
     "text": [
      "Extracting MNIST_data/train-images-idx3-ubyte.gz\n",
      "Extracting MNIST_data/train-labels-idx1-ubyte.gz\n",
      "Extracting MNIST_data/t10k-images-idx3-ubyte.gz\n",
      "Extracting MNIST_data/t10k-labels-idx1-ubyte.gz\n"
     ]
    }
   ],
   "source": [
    "from tensorflow.examples.tutorials.mnist import input_data\n",
    "mnist = input_data.read_data_sets(\"MNIST_data/\", one_hot=True)"
   ]
  },
  {
   "cell_type": "code",
   "execution_count": 3,
   "metadata": {
    "collapsed": true,
    "nbpresent": {
     "id": "dbb966dc-9c96-4ea4-8113-d650187f8445"
    }
   },
   "outputs": [],
   "source": [
    "import tensorflow as tf\n",
    "import numpy as np\n",
    "from matplotlib import pyplot as plt"
   ]
  },
  {
   "cell_type": "markdown",
   "metadata": {
    "nbpresent": {
     "id": "594998b3-ca96-4cd7-ba99-e48c64ed928c"
    }
   },
   "source": [
    "## Check format of data"
   ]
  },
  {
   "cell_type": "code",
   "execution_count": 2,
   "metadata": {
    "collapsed": false,
    "nbpresent": {
     "id": "2af830d3-f60a-4ead-98d0-bd9908ad57ee"
    }
   },
   "outputs": [],
   "source": [
    "def print_public_fields(obj):\n",
    "    for field in dir(obj):\n",
    "        field_is_private = field[0] == '_' or field[1] == '_'\n",
    "        if not field_is_private:\n",
    "            print(field, type(getattr(obj, field)))"
   ]
  },
  {
   "cell_type": "code",
   "execution_count": 3,
   "metadata": {
    "collapsed": false,
    "nbpresent": {
     "id": "5202075e-51d5-4010-8c41-bfd4eb1eeaff"
    }
   },
   "outputs": [
    {
     "name": "stdout",
     "output_type": "stream",
     "text": [
      "count <class 'builtin_function_or_method'>\n",
      "index <class 'builtin_function_or_method'>\n",
      "test <class 'tensorflow.contrib.learn.python.learn.datasets.mnist.DataSet'>\n",
      "train <class 'tensorflow.contrib.learn.python.learn.datasets.mnist.DataSet'>\n",
      "validation <class 'tensorflow.contrib.learn.python.learn.datasets.mnist.DataSet'>\n"
     ]
    }
   ],
   "source": [
    "print_public_fields(mnist)"
   ]
  },
  {
   "cell_type": "code",
   "execution_count": 4,
   "metadata": {
    "collapsed": false,
    "nbpresent": {
     "id": "28a6341b-0a92-49ce-82c6-31923b3193b5"
    }
   },
   "outputs": [
    {
     "name": "stdout",
     "output_type": "stream",
     "text": [
      "epochs_completed <class 'int'>\n",
      "images <class 'numpy.ndarray'>\n",
      "labels <class 'numpy.ndarray'>\n",
      "next_batch <class 'method'>\n",
      "num_examples <class 'int'>\n"
     ]
    }
   ],
   "source": [
    "print_public_fields(mnist.test)"
   ]
  },
  {
   "cell_type": "markdown",
   "metadata": {
    "nbpresent": {
     "id": "0979aae1-8a45-47d7-938f-99e12b6ed355"
    }
   },
   "source": [
    "### Check format of images"
   ]
  },
  {
   "cell_type": "code",
   "execution_count": 11,
   "metadata": {
    "collapsed": false,
    "nbpresent": {
     "id": "4f983e62-cce6-4535-b6f5-549732343d9b"
    }
   },
   "outputs": [],
   "source": [
    "from matplotlib import pyplot as plt"
   ]
  },
  {
   "cell_type": "code",
   "execution_count": 32,
   "metadata": {
    "collapsed": false,
    "nbpresent": {
     "id": "8e092140-7172-4eca-aeb0-0990663ea416"
    }
   },
   "outputs": [
    {
     "data": {
      "image/png": "[encoded data removed]",
      "text/plain": [
       "<matplotlib.figure.Figure at 0x7f5201579470>"
      ]
     },
     "metadata": {},
     "output_type": "display_data"
    }
   ],
   "source": [
    "image = mnist.test.images[0]\n",
    "image = image.reshape((28, -1))\n",
    "plt.imshow(image)\n",
    "plt.show()"
   ]
  },
  {
   "cell_type": "code",
   "execution_count": 31,
   "metadata": {
    "collapsed": false,
    "nbpresent": {
     "id": "e284c3c4-5fcc-466b-b92f-208c3394afe7"
    }
   },
   "outputs": [
    {
     "name": "stdout",
     "output_type": "stream",
     "text": [
      "Pixel values in range: [0.0; 1.0]\n"
     ]
    }
   ],
   "source": [
    "print(\"Pixel values in range: [{}; {}]\".format(image.min(), image.max()))"
   ]
  },
  {
   "cell_type": "markdown",
   "metadata": {
    "nbpresent": {
     "id": "903e1c0d-c4f4-44c6-a441-786b7d7142b3"
    }
   },
   "source": [
    "### Train simple linear regression"
   ]
  },
  {
   "cell_type": "code",
   "execution_count": 2,
   "metadata": {
    "collapsed": false,
    "nbpresent": {
     "id": "00fab7c3-0547-44c6-a3dd-7c13baf016c4"
    }
   },
   "outputs": [],
   "source": [
    "img_len = 28*28\n",
    "num_classes = 10\n",
    "batch_size = 64 # Play with this parameter\n",
    "test_dataset_length = len(mnist.test.labels)"
   ]
  },
  {
   "cell_type": "code",
   "execution_count": 3,
   "metadata": {
    "collapsed": true,
    "nbpresent": {
     "id": "0b37d4ec-24ca-41ac-96b2-7c3781f8cacf"
    }
   },
   "outputs": [],
   "source": [
    "import tensorflow as tf"
   ]
  },
  {
   "cell_type": "code",
   "execution_count": 4,
   "metadata": {
    "collapsed": false,
    "nbpresent": {
     "id": "17dea407-468c-4158-8cf4-0e7f3572510e"
    }
   },
   "outputs": [],
   "source": [
    "graph = tf.Graph()\n",
    "\n",
    "with graph.as_default():\n",
    "    Xs = tf.placeholder(tf.float32, shape=[None, img_len])\n",
    "    Ys = tf.placeholder(tf.float32, shape=[None, num_classes])\n",
    "    \n",
    "    W = tf.Variable(tf.truncated_normal(shape=[img_len, num_classes]))\n",
    "    b = tf.Variable(tf.zeros([num_classes]))\n",
    "    \n",
    "    logits = tf.matmul(Xs, W) + b\n",
    "    loss = tf.reduce_mean(tf.losses.softmax_cross_entropy(Ys, logits))\n",
    "    \n",
    "    optimizer = tf.train.GradientDescentOptimizer(0.5).minimize(loss)\n",
    "    \n",
    "    # test\n",
    "    test_predictions = tf.nn.softmax(tf.matmul(Xs, W) + b)\n",
    "    correct_prediction = tf.equal(tf.argmax(Ys,1), tf.argmax(test_predictions,1))\n",
    "    accuracy = tf.reduce_mean(tf.cast(correct_prediction, tf.float32))"
   ]
  },
  {
   "cell_type": "code",
   "execution_count": 7,
   "metadata": {
    "collapsed": false,
    "nbpresent": {
     "id": "51ba1495-070a-4154-a11e-af70348753e2"
    }
   },
   "outputs": [
    {
     "name": "stdout",
     "output_type": "stream",
     "text": [
      "[0 step] Loss for validation dataset is 12.888274192810059\n",
      "[2000 step] Loss for validation dataset is 0.270382285118103\n",
      "[4000 step] Loss for validation dataset is 0.2436733841896057\n",
      "[6000 step] Loss for validation dataset is 0.2596595585346222\n",
      "[8000 step] Loss for validation dataset is 0.29431813955307007\n",
      "[10000 step] Loss for validation dataset is 0.21821440756320953\n",
      "[12000 step] Loss for validation dataset is 0.2246493250131607\n",
      "[14000 step] Loss for validation dataset is 0.2179436981678009\n",
      "[16000 step] Loss for validation dataset is 0.25291672348976135\n",
      "[18000 step] Loss for validation dataset is 0.24580085277557373\n",
      "Test accuracy is  0.9189\n"
     ]
    }
   ],
   "source": [
    "num_steps = 20000\n",
    "\n",
    "valid_data, valid_labels = mnist.validation.next_batch(batch_size)\n",
    "\n",
    "with tf.Session(graph=graph) as session:\n",
    "    tf.global_variables_initializer().run()\n",
    "    for step in range(num_steps):\n",
    "        train_data, train_labels = mnist.train.next_batch(batch_size)\n",
    "        l, _ = session.run([loss, optimizer], feed_dict={Xs: train_data, Ys: train_labels})\n",
    "        if step % 2000 == 0:\n",
    "            l = session.run(loss, feed_dict={Xs: valid_data, Ys: valid_labels})\n",
    "            print(\"[{} step] Loss for validation dataset is {}\".format(step, l))\n",
    "    \n",
    "    test_accuracy = session.run(accuracy, feed_dict={Xs: mnist.test.images, Ys: mnist.test.labels})\n",
    "    print(\"Test accuracy is \", test_accuracy)"
   ]
  },
  {
   "cell_type": "markdown",
   "metadata": {
    "nbpresent": {
     "id": "c6737024-74f7-4e05-8133-9c031e351629"
    }
   },
   "source": [
    "Complete these tutorials by yourself.\n",
    "\n",
    "* https://www.tensorflow.org/get_started/mnist/beginners\n",
    "* https://www.tensorflow.org/get_started/mnist/pros\n",
    "\n",
    "And read this article\n",
    "http://colah.github.io/posts/2015-09-Visual-Information/\n",
    "\n",
    "Also experiment with parameters and also try RNN from official Tensorflow tutorial on this link.\n",
    "https://www.tensorflow.org/tutorials/\n",
    "\n",
    "ALso if you have a time play with tutorials on the link above"
   ]
  },
  {
   "cell_type": "markdown",
   "metadata": {
    "nbpresent": {
     "id": "363d38eb-3187-4368-a870-ddf119dd4420"
    }
   },
   "source": [
    "# Simple convolution neural network "
   ]
  },
  {
   "cell_type": "code",
   "execution_count": 8,
   "metadata": {
    "collapsed": true,
    "nbpresent": {
     "id": "e35845a3-0bca-41b7-ae6f-adedd2186eb1"
    }
   },
   "outputs": [],
   "source": [
    "def weight_variable(shape):\n",
    "    initial = tf.truncated_normal(shape, stddev=0.1)\n",
    "    return tf.Variable(initial)\n",
    "\n",
    "def bias_variable(shape):\n",
    "    initial = tf.zeros(shape)\n",
    "    return tf.Variable(initial)\n",
    "\n",
    "def conv2d(x, W):\n",
    "    return tf.nn.conv2d(x, W, strides=[1, 1, 1, 1], padding='SAME')\n",
    "\n",
    "def max_pool_2x2(x):\n",
    "    return tf.nn.max_pool(x, ksize=[1, 2, 2, 1], strides=[1, 2, 2, 1], padding='SAME')"
   ]
  },
  {
   "cell_type": "code",
   "execution_count": 10,
   "metadata": {
    "collapsed": false,
    "nbpresent": {
     "id": "96d1bcdf-55ef-4aba-9ed8-b9208ab9542a"
    }
   },
   "outputs": [],
   "source": [
    "num_classes = 10"
   ]
  },
  {
   "cell_type": "code",
   "execution_count": 20,
   "metadata": {
    "collapsed": false,
    "nbpresent": {
     "id": "4b861f6d-56f2-49b9-9e8b-f14c5e65f314"
    }
   },
   "outputs": [],
   "source": [
    "graph = tf.Graph()\n",
    "\n",
    "with graph.as_default():\n",
    "    x = tf.placeholder(tf.float32, shape=[None, 784])\n",
    "    y_ = tf.placeholder(tf.float32, shape=[None, num_classes])\n",
    "    \n",
    "    x_image = tf.reshape(x, [-1, 28, 28, 1])\n",
    "    \n",
    "    W_conv1 = weight_variable([5, 5, 1, 32])\n",
    "    b_conv1 = bias_variable([32])\n",
    "    \n",
    "    h_conv1 = tf.nn.relu(conv2d(x_image, W_conv1) + b_conv1)\n",
    "    h_pool1 = max_pool_2x2(h_conv1)\n",
    "    \n",
    "    W_conv2 = weight_variable([5, 5, 32, 64])\n",
    "    b_conv2 = bias_variable([64])\n",
    "    \n",
    "    h_conv2 = tf.nn.relu(conv2d(h_pool1, W_conv2) + b_conv2)\n",
    "    h_pool2 = max_pool_2x2(h_conv2)\n",
    "    \n",
    "    W_fc1 = weight_variable([7*7*64, 1024])\n",
    "    b_fc1 = bias_variable([1024])\n",
    "    \n",
    "    h_pool2_flat = tf.reshape(h_pool2, [-1, 7*7*64])\n",
    "    h_fc1 = tf.nn.relu(tf.matmul(h_pool2_flat, W_fc1) + b_fc1)\n",
    "    \n",
    "    keep_prob = tf.placeholder(tf.float32)\n",
    "    h_fc1_drop = tf.nn.dropout(h_fc1, keep_prob)\n",
    "    \n",
    "    W_fc2 = weight_variable([1024, 10])\n",
    "    b_fc2 = bias_variable([10])\n",
    "    \n",
    "    y_conv = tf.matmul(h_fc1_drop, W_fc2) + b_fc2\n",
    "    \n",
    "    cross_entropy = tf.reduce_mean(tf.nn.softmax_cross_entropy_with_logits(labels=y_, logits=y_conv))\n",
    "    train_step = tf.train.AdamOptimizer(1e-4).minimize(cross_entropy)\n",
    "    correct_prediction = tf.equal(tf.argmax(y_, 1), tf.argmax(y_conv, 1))\n",
    "    accuracy = tf.reduce_mean(tf.cast(correct_prediction, tf.float32))"
   ]
  },
  {
   "cell_type": "code",
   "execution_count": 21,
   "metadata": {
    "collapsed": false,
    "nbpresent": {
     "id": "5976a01f-6790-4f10-83d6-240b3cba35ed"
    }
   },
   "outputs": [
    {
     "name": "stdout",
     "output_type": "stream",
     "text": [
      "step 0, training accuracy 0.05999999865889549\n",
      "step 100, training accuracy 0.8799999952316284\n",
      "step 200, training accuracy 0.9399999976158142\n",
      "step 300, training accuracy 0.8999999761581421\n",
      "step 400, training accuracy 0.9599999785423279\n",
      "step 500, training accuracy 0.9599999785423279\n",
      "step 600, training accuracy 0.9599999785423279\n",
      "step 700, training accuracy 0.9599999785423279\n",
      "step 800, training accuracy 0.9200000166893005\n",
      "step 900, training accuracy 0.9800000190734863\n",
      "step 1000, training accuracy 0.9599999785423279\n",
      "step 1100, training accuracy 1.0\n",
      "step 1200, training accuracy 0.8799999952316284\n",
      "step 1300, training accuracy 1.0\n",
      "step 1400, training accuracy 1.0\n",
      "step 1500, training accuracy 0.9599999785423279\n",
      "step 1600, training accuracy 0.9599999785423279\n",
      "step 1700, training accuracy 0.9800000190734863\n",
      "step 1800, training accuracy 0.9599999785423279\n",
      "step 1900, training accuracy 0.9800000190734863\n",
      "step 2000, training accuracy 1.0\n",
      "step 2100, training accuracy 0.9800000190734863\n",
      "step 2200, training accuracy 0.9599999785423279\n",
      "step 2300, training accuracy 0.9800000190734863\n",
      "step 2400, training accuracy 1.0\n",
      "step 2500, training accuracy 0.9599999785423279\n",
      "step 2600, training accuracy 0.9800000190734863\n",
      "step 2700, training accuracy 0.9800000190734863\n",
      "step 2800, training accuracy 1.0\n",
      "step 2900, training accuracy 0.9800000190734863\n",
      "step 3000, training accuracy 1.0\n",
      "step 3100, training accuracy 0.9599999785423279\n",
      "step 3200, training accuracy 0.9800000190734863\n",
      "step 3300, training accuracy 0.9800000190734863\n",
      "step 3400, training accuracy 1.0\n",
      "step 3500, training accuracy 0.9800000190734863\n",
      "step 3600, training accuracy 0.9800000190734863\n",
      "step 3700, training accuracy 0.9800000190734863\n",
      "step 3800, training accuracy 0.9800000190734863\n",
      "step 3900, training accuracy 1.0\n",
      "step 4000, training accuracy 0.9800000190734863\n",
      "step 4100, training accuracy 1.0\n",
      "step 4200, training accuracy 1.0\n",
      "step 4300, training accuracy 1.0\n",
      "step 4400, training accuracy 0.9800000190734863\n",
      "step 4500, training accuracy 0.9800000190734863\n",
      "step 4600, training accuracy 1.0\n",
      "step 4700, training accuracy 1.0\n",
      "step 4800, training accuracy 0.9800000190734863\n",
      "step 4900, training accuracy 1.0\n",
      "step 5000, training accuracy 1.0\n",
      "step 5100, training accuracy 0.9599999785423279\n",
      "step 5200, training accuracy 1.0\n",
      "step 5300, training accuracy 1.0\n",
      "step 5400, training accuracy 1.0\n",
      "step 5500, training accuracy 0.9800000190734863\n",
      "step 5600, training accuracy 1.0\n",
      "step 5700, training accuracy 1.0\n",
      "step 5800, training accuracy 1.0\n",
      "step 5900, training accuracy 1.0\n",
      "step 6000, training accuracy 0.9800000190734863\n",
      "step 6100, training accuracy 1.0\n",
      "step 6200, training accuracy 1.0\n",
      "step 6300, training accuracy 1.0\n",
      "step 6400, training accuracy 1.0\n",
      "step 6500, training accuracy 1.0\n",
      "step 6600, training accuracy 1.0\n",
      "step 6700, training accuracy 0.9800000190734863\n",
      "step 6800, training accuracy 0.9800000190734863\n",
      "step 6900, training accuracy 0.9599999785423279\n",
      "step 7000, training accuracy 0.9800000190734863\n",
      "step 7100, training accuracy 1.0\n",
      "step 7200, training accuracy 1.0\n",
      "step 7300, training accuracy 1.0\n",
      "step 7400, training accuracy 1.0\n",
      "step 7500, training accuracy 1.0\n",
      "step 7600, training accuracy 0.9800000190734863\n",
      "step 7700, training accuracy 1.0\n",
      "step 7800, training accuracy 1.0\n",
      "step 7900, training accuracy 1.0\n",
      "step 8000, training accuracy 1.0\n",
      "step 8100, training accuracy 1.0\n",
      "step 8200, training accuracy 1.0\n",
      "step 8300, training accuracy 0.9800000190734863\n",
      "step 8400, training accuracy 1.0\n",
      "step 8500, training accuracy 1.0\n",
      "step 8600, training accuracy 1.0\n",
      "step 8700, training accuracy 1.0\n",
      "step 8800, training accuracy 1.0\n",
      "step 8900, training accuracy 1.0\n",
      "step 9000, training accuracy 1.0\n",
      "step 9100, training accuracy 1.0\n",
      "step 9200, training accuracy 1.0\n",
      "step 9300, training accuracy 1.0\n",
      "step 9400, training accuracy 1.0\n",
      "step 9500, training accuracy 1.0\n",
      "step 9600, training accuracy 0.9800000190734863\n",
      "step 9700, training accuracy 1.0\n",
      "step 9800, training accuracy 0.9800000190734863\n",
      "step 9900, training accuracy 1.0\n",
      "step 10000, training accuracy 1.0\n",
      "step 10100, training accuracy 1.0\n",
      "step 10200, training accuracy 1.0\n",
      "step 10300, training accuracy 1.0\n",
      "step 10400, training accuracy 0.9599999785423279\n",
      "step 10500, training accuracy 1.0\n",
      "step 10600, training accuracy 1.0\n",
      "step 10700, training accuracy 1.0\n",
      "step 10800, training accuracy 1.0\n",
      "step 10900, training accuracy 1.0\n",
      "step 11000, training accuracy 1.0\n",
      "step 11100, training accuracy 1.0\n",
      "step 11200, training accuracy 1.0\n",
      "step 11300, training accuracy 1.0\n",
      "step 11400, training accuracy 1.0\n",
      "step 11500, training accuracy 1.0\n",
      "step 11600, training accuracy 1.0\n",
      "step 11700, training accuracy 1.0\n",
      "step 11800, training accuracy 1.0\n",
      "step 11900, training accuracy 1.0\n",
      "step 12000, training accuracy 1.0\n",
      "step 12100, training accuracy 1.0\n",
      "step 12200, training accuracy 1.0\n",
      "step 12300, training accuracy 1.0\n",
      "step 12400, training accuracy 1.0\n",
      "step 12500, training accuracy 1.0\n",
      "step 12600, training accuracy 1.0\n",
      "step 12700, training accuracy 1.0\n",
      "step 12800, training accuracy 1.0\n",
      "step 12900, training accuracy 1.0\n",
      "step 13000, training accuracy 1.0\n",
      "step 13100, training accuracy 1.0\n",
      "step 13200, training accuracy 0.9800000190734863\n",
      "step 13300, training accuracy 1.0\n",
      "step 13400, training accuracy 1.0\n",
      "step 13500, training accuracy 1.0\n",
      "step 13600, training accuracy 1.0\n",
      "step 13700, training accuracy 1.0\n",
      "step 13800, training accuracy 1.0\n",
      "step 13900, training accuracy 1.0\n",
      "step 14000, training accuracy 1.0\n",
      "step 14100, training accuracy 1.0\n",
      "step 14200, training accuracy 1.0\n",
      "step 14300, training accuracy 1.0\n",
      "step 14400, training accuracy 1.0\n",
      "step 14500, training accuracy 1.0\n",
      "step 14600, training accuracy 1.0\n",
      "step 14700, training accuracy 1.0\n",
      "step 14800, training accuracy 1.0\n",
      "step 14900, training accuracy 1.0\n",
      "step 15000, training accuracy 1.0\n",
      "step 15100, training accuracy 1.0\n",
      "step 15200, training accuracy 1.0\n",
      "step 15300, training accuracy 1.0\n",
      "step 15400, training accuracy 1.0\n",
      "step 15500, training accuracy 1.0\n",
      "step 15600, training accuracy 1.0\n",
      "step 15700, training accuracy 1.0\n",
      "step 15800, training accuracy 1.0\n",
      "step 15900, training accuracy 1.0\n",
      "step 16000, training accuracy 1.0\n",
      "step 16100, training accuracy 1.0\n",
      "step 16200, training accuracy 1.0\n",
      "step 16300, training accuracy 1.0\n",
      "step 16400, training accuracy 1.0\n",
      "step 16500, training accuracy 1.0\n",
      "step 16600, training accuracy 1.0\n",
      "step 16700, training accuracy 1.0\n",
      "step 16800, training accuracy 1.0\n",
      "step 16900, training accuracy 0.9800000190734863\n",
      "step 17000, training accuracy 1.0\n",
      "step 17100, training accuracy 1.0\n",
      "step 17200, training accuracy 1.0\n",
      "step 17300, training accuracy 1.0\n",
      "step 17400, training accuracy 1.0\n",
      "step 17500, training accuracy 1.0\n",
      "step 17600, training accuracy 1.0\n",
      "step 17700, training accuracy 1.0\n",
      "step 17800, training accuracy 1.0\n",
      "step 17900, training accuracy 1.0\n",
      "step 18000, training accuracy 1.0\n",
      "step 18100, training accuracy 1.0\n",
      "step 18200, training accuracy 1.0\n",
      "step 18300, training accuracy 1.0\n",
      "step 18400, training accuracy 1.0\n",
      "step 18500, training accuracy 1.0\n",
      "step 18600, training accuracy 1.0\n",
      "step 18700, training accuracy 1.0\n",
      "step 18800, training accuracy 1.0\n",
      "step 18900, training accuracy 1.0\n",
      "step 19000, training accuracy 1.0\n",
      "step 19100, training accuracy 1.0\n",
      "step 19200, training accuracy 1.0\n",
      "step 19300, training accuracy 1.0\n",
      "step 19400, training accuracy 1.0\n",
      "step 19500, training accuracy 1.0\n",
      "step 19600, training accuracy 1.0\n",
      "step 19700, training accuracy 1.0\n",
      "step 19800, training accuracy 1.0\n",
      "step 19900, training accuracy 1.0\n",
      "test accuracy 0.9927999973297119\n"
     ]
    }
   ],
   "source": [
    "with tf.Session(graph=graph) as sess:\n",
    "    sess.run(tf.global_variables_initializer())\n",
    "    for i in range(20000):\n",
    "        batch = mnist.train.next_batch(50)\n",
    "        if i % 100 == 0:\n",
    "            train_accuracy = accuracy.eval(feed_dict = {x: batch[0], y_: batch[1], keep_prob: 1.0})\n",
    "            print(\"step {}, training accuracy {}\".format(i, train_accuracy))\n",
    "        train_step.run(feed_dict={x: batch[0], y_: batch[1], keep_prob: 0.5})\n",
    "        \n",
    "    print(\"test accuracy {}\".format(accuracy.eval(feed_dict={\n",
    "                    x: mnist.test.images, y_: mnist.test.labels, keep_prob: 1.0})))"
   ]
  },
  {
   "cell_type": "markdown",
   "metadata": {
    "nbpresent": {
     "id": "8351c1b8-07ed-4c33-9f3f-47c82b21231d"
    }
   },
   "source": [
    "------------"
   ]
  },
  {
   "cell_type": "markdown",
   "metadata": {
    "nbpresent": {
     "id": "cf89968a-f79f-4392-a7f2-1e1d2df95ed7"
    }
   },
   "source": [
    "# Implementing house numbers recognizer\n",
    "\n",
    "## Step 1: Design and test a model architecture that can identify sequences of digits in an image."
   ]
  },
  {
   "cell_type": "markdown",
   "metadata": {
    "nbpresent": {
     "id": "56ef4c42-e46f-4f79-8933-3c13ec9c30e8"
    }
   },
   "source": [
    "### Generate empty digit in a sequence"
   ]
  },
  {
   "cell_type": "code",
   "execution_count": 31,
   "metadata": {
    "collapsed": false,
    "nbpresent": {
     "id": "030e70ec-2cb5-487b-8c78-e27929d299a6"
    }
   },
   "outputs": [
    {
     "name": "stdout",
     "output_type": "stream",
     "text": [
      "-0.0705977004075\n"
     ]
    },
    {
     "data": {
      "image/png": "[encoded data removed]",
      "text/plain": [
       "<matplotlib.figure.Figure at 0x7f5f4b4bdbe0>"
      ]
     },
     "metadata": {},
     "output_type": "display_data"
    }
   ],
   "source": [
    "img = np.random.normal(size=[28, 28])\n",
    "print(img.mean())\n",
    "plt.imshow(img)\n",
    "plt.show()"
   ]
  },
  {
   "cell_type": "code",
   "execution_count": 37,
   "metadata": {
    "collapsed": false,
    "nbpresent": {
     "id": "66bf02ed-5154-425b-99f0-ee766a0ea049"
    }
   },
   "outputs": [
    {
     "data": {
      "text/plain": [
       "55000"
      ]
     },
     "execution_count": 37,
     "metadata": {},
     "output_type": "execute_result"
    }
   ],
   "source": [
    "len(mnist.train.labels)"
   ]
  },
  {
   "cell_type": "markdown",
   "metadata": {
    "nbpresent": {
     "id": "c920d921-660b-43b4-97d3-f3b1fad52936"
    }
   },
   "source": [
    "### Working for batch generator  \n",
    "Input data is 1 'long' image obtained   \n",
    "from merging 5 images with digits and some empty images  \n",
    "\n",
    "Labels are for 6 classifiers.  \n",
    "Each responds for it's digit and one respond for length of sequence \n",
    "\n",
    "Ideas:\n",
    "* To make batches uniform we will generate sequencies from 1 to 5 and repeat\n",
    "\n",
    "Q\n",
    "In SVHM dataset digits not always at the same positions\n",
    "Will it be good to learn not only\n",
    "```\n",
    "d d d * * *\n",
    "d * * * * *\n",
    "\n",
    "but also these ?\n",
    "* * d d d d\n",
    "* d * d * d\n",
    "```"
   ]
  },
  {
   "cell_type": "code",
   "execution_count": 4,
   "metadata": {
    "collapsed": true,
    "nbpresent": {
     "id": "00fd7aea-6d03-43b1-becd-12c8d0ff833a"
    }
   },
   "outputs": [],
   "source": [
    "# Optimize this shit someone\n",
    "class BatchGenerator:\n",
    "    def __init__(self, mnist, digits_limit=5):\n",
    "        # self._mnist = mnist\n",
    "        self._num_classes = 11 # 10 for digits and 1 for 'no digit'\n",
    "        self._digits_limit = digits_limit\n",
    "        \n",
    "    def _noise_image(self):\n",
    "        img = np.random.normal(0, 0.1, size=[28, 28])\n",
    "        diff = img.max() - img.min()\n",
    "        norm_img = (img - img.min()) / diff\n",
    "        return norm_img\n",
    "        \n",
    "    def _empty_image(self):\n",
    "        return np.zeros([28, 28])\n",
    "    \n",
    "    def _empty_label(self):\n",
    "        zeros = np.zeros([11])\n",
    "        zeros[-1] = 1\n",
    "        return zeros\n",
    "    \n",
    "    # fixme: maybe too long names for variables\n",
    "    def next_image(self, digits_count, aim='train'):\n",
    "        '''\n",
    "        Returns \n",
    "        \n",
    "        First val: image with digits\n",
    "        image of shape [28, 28*self.__digits_limit]\n",
    "        where Each 28x28 part is a image from MNIST dataset\n",
    "        or normalized to [0, 1] empty image (numpy.random.normal())\n",
    "        or just zero filled matrix\n",
    "        \n",
    "        Second val: labels for top digits classifiers (by default there is 5 of them)\n",
    "        array of shape [self.__digits_limit, 10]\n",
    "        label for empty image is [0 x 10]\n",
    "        \n",
    "        Third value: count of empty images used here\n",
    "        '''\n",
    "        \n",
    "        source = mnist.train\n",
    "        if aim == 'validation':\n",
    "            source = mnist.validation\n",
    "        elif aim == 'test':\n",
    "            source = mnist.test\n",
    "        \n",
    "        digits, digits_labels = source.next_batch(digits_count)\n",
    "        digits = digits.reshape([-1, 28, 28]) # vec to image\n",
    "        \n",
    "        # Generate long image with digits_count in it\n",
    "        image_parts = np.empty([self._digits_limit, 28, 28])\n",
    "        image_parts[:digits_count] = digits\n",
    "        image_parts[digits_count:self._digits_limit] = self._empty_image()\n",
    "        \n",
    "        image = np.hstack(image_parts)\n",
    "        \n",
    "        # Generate labels\n",
    "        labels = np.empty([self._digits_limit, 11])\n",
    "        labels[:, -1] = 0 # last digit for 'unknown' labels\n",
    "        labels[:digits_count, :-1] = digits_labels\n",
    "        labels[digits_count:self._digits_limit] = self._empty_label()\n",
    "        \n",
    "        return image, labels, digits_count\n",
    "    \n",
    "    # It can be done in a faster way using numpy operations\n",
    "    # Rewrite it later\n",
    "    def next(self, count, aim='train'):\n",
    "        images = np.empty([count, 28, 28*self._digits_limit])\n",
    "        labels = np.empty([count, self._digits_limit, 11])\n",
    "        digits_counts = np.empty(count)\n",
    "        \n",
    "        # Maybe try sequencies like * * 4 3 2 or * 1 * 2 * 3 *\n",
    "        # Anyway we need smaller amount of empty images\n",
    "        # For example 1 per 1/10 part of batch\n",
    "        # !!! May be a very good idea to shufle dataset an add blur and rotation\n",
    "        # Now 20 % with 5 digits, 20 % with 4, 20% with 3, 20 % with 2, 20% with 1\n",
    "        # It's for right side\n",
    "        digits_count = 5+1 # 1 for first iteration \n",
    "        for i in range(count):\n",
    "            if i % (count // 10) == 0:\n",
    "                digits_count -= 1\n",
    "            if digits_count == 0:\n",
    "                digits_count = 5\n",
    "            \n",
    "            # digits_count = i % self._digits_limit + 1\n",
    "            images[i], labels[i], digits_counts[i] = self.next_image(digits_count, aim)\n",
    "        \n",
    "        labels = (np.hstack(labels)).reshape([self._digits_limit, -1, 11])\n",
    "        images = images.reshape([count, 28, 28*self._digits_limit, 1]) # Add one last channel dimension\n",
    "        digits_counts = digits_counts.reshape([-1, 1])\n",
    "        return images, labels, digits_counts"
   ]
  },
  {
   "cell_type": "code",
   "execution_count": 5,
   "metadata": {
    "collapsed": false,
    "nbpresent": {
     "id": "87feb585-f6bd-44f1-a710-0628e66613c4"
    }
   },
   "outputs": [
    {
     "data": {
      "image/png": "[encoded data removed]",
      "text/plain": [
       "<matplotlib.figure.Figure at 0x7f6a7f50a2e8>"
      ]
     },
     "metadata": {},
     "output_type": "display_data"
    },
    {
     "name": "stdout",
     "output_type": "stream",
     "text": [
      "On this image is (are) 4 digit(s)\n",
      "[[ 1.  0.  0.  0.  0.  0.  0.  0.  0.  0.  0.]\n",
      " [ 0.  0.  0.  0.  0.  0.  1.  0.  0.  0.  0.]\n",
      " [ 0.  0.  0.  0.  0.  0.  0.  1.  0.  0.  0.]\n",
      " [ 0.  0.  1.  0.  0.  0.  0.  0.  0.  0.  0.]\n",
      " [ 0.  0.  0.  0.  0.  0.  0.  0.  0.  0.  1.]]\n"
     ]
    }
   ],
   "source": [
    "bg = BatchGenerator(mnist, 5)\n",
    "image, labels, digits_count = bg.next_image(4)\n",
    "plt.imshow(image)\n",
    "plt.show()\n",
    "print(f'On this image is (are) {digits_count} digit(s)')\n",
    "print(labels)"
   ]
  },
  {
   "cell_type": "code",
   "execution_count": 77,
   "metadata": {
    "collapsed": false,
    "nbpresent": {
     "id": "0fee827d-33cc-47f4-873d-1cee80b58b35"
    }
   },
   "outputs": [
    {
     "data": {
      "text/plain": [
       "(array([[[[ 0.],\n",
       "          [ 0.],\n",
       "          [ 0.],\n",
       "          ..., \n",
       "          [ 0.],\n",
       "          [ 0.],\n",
       "          [ 0.]],\n",
       " \n",
       "         [[ 0.],\n",
       "          [ 0.],\n",
       "          [ 0.],\n",
       "          ..., \n",
       "          [ 0.],\n",
       "          [ 0.],\n",
       "          [ 0.]],\n",
       " \n",
       "         [[ 0.],\n",
       "          [ 0.],\n",
       "          [ 0.],\n",
       "          ..., \n",
       "          [ 0.],\n",
       "          [ 0.],\n",
       "          [ 0.]],\n",
       " \n",
       "         ..., \n",
       "         [[ 0.],\n",
       "          [ 0.],\n",
       "          [ 0.],\n",
       "          ..., \n",
       "          [ 0.],\n",
       "          [ 0.],\n",
       "          [ 0.]],\n",
       " \n",
       "         [[ 0.],\n",
       "          [ 0.],\n",
       "          [ 0.],\n",
       "          ..., \n",
       "          [ 0.],\n",
       "          [ 0.],\n",
       "          [ 0.]],\n",
       " \n",
       "         [[ 0.],\n",
       "          [ 0.],\n",
       "          [ 0.],\n",
       "          ..., \n",
       "          [ 0.],\n",
       "          [ 0.],\n",
       "          [ 0.]]],\n",
       " \n",
       " \n",
       "        [[[ 0.],\n",
       "          [ 0.],\n",
       "          [ 0.],\n",
       "          ..., \n",
       "          [ 0.],\n",
       "          [ 0.],\n",
       "          [ 0.]],\n",
       " \n",
       "         [[ 0.],\n",
       "          [ 0.],\n",
       "          [ 0.],\n",
       "          ..., \n",
       "          [ 0.],\n",
       "          [ 0.],\n",
       "          [ 0.]],\n",
       " \n",
       "         [[ 0.],\n",
       "          [ 0.],\n",
       "          [ 0.],\n",
       "          ..., \n",
       "          [ 0.],\n",
       "          [ 0.],\n",
       "          [ 0.]],\n",
       " \n",
       "         ..., \n",
       "         [[ 0.],\n",
       "          [ 0.],\n",
       "          [ 0.],\n",
       "          ..., \n",
       "          [ 0.],\n",
       "          [ 0.],\n",
       "          [ 0.]],\n",
       " \n",
       "         [[ 0.],\n",
       "          [ 0.],\n",
       "          [ 0.],\n",
       "          ..., \n",
       "          [ 0.],\n",
       "          [ 0.],\n",
       "          [ 0.]],\n",
       " \n",
       "         [[ 0.],\n",
       "          [ 0.],\n",
       "          [ 0.],\n",
       "          ..., \n",
       "          [ 0.],\n",
       "          [ 0.],\n",
       "          [ 0.]]],\n",
       " \n",
       " \n",
       "        [[[ 0.],\n",
       "          [ 0.],\n",
       "          [ 0.],\n",
       "          ..., \n",
       "          [ 0.],\n",
       "          [ 0.],\n",
       "          [ 0.]],\n",
       " \n",
       "         [[ 0.],\n",
       "          [ 0.],\n",
       "          [ 0.],\n",
       "          ..., \n",
       "          [ 0.],\n",
       "          [ 0.],\n",
       "          [ 0.]],\n",
       " \n",
       "         [[ 0.],\n",
       "          [ 0.],\n",
       "          [ 0.],\n",
       "          ..., \n",
       "          [ 0.],\n",
       "          [ 0.],\n",
       "          [ 0.]],\n",
       " \n",
       "         ..., \n",
       "         [[ 0.],\n",
       "          [ 0.],\n",
       "          [ 0.],\n",
       "          ..., \n",
       "          [ 0.],\n",
       "          [ 0.],\n",
       "          [ 0.]],\n",
       " \n",
       "         [[ 0.],\n",
       "          [ 0.],\n",
       "          [ 0.],\n",
       "          ..., \n",
       "          [ 0.],\n",
       "          [ 0.],\n",
       "          [ 0.]],\n",
       " \n",
       "         [[ 0.],\n",
       "          [ 0.],\n",
       "          [ 0.],\n",
       "          ..., \n",
       "          [ 0.],\n",
       "          [ 0.],\n",
       "          [ 0.]]],\n",
       " \n",
       " \n",
       "        ..., \n",
       "        [[[ 0.],\n",
       "          [ 0.],\n",
       "          [ 0.],\n",
       "          ..., \n",
       "          [ 0.],\n",
       "          [ 0.],\n",
       "          [ 0.]],\n",
       " \n",
       "         [[ 0.],\n",
       "          [ 0.],\n",
       "          [ 0.],\n",
       "          ..., \n",
       "          [ 0.],\n",
       "          [ 0.],\n",
       "          [ 0.]],\n",
       " \n",
       "         [[ 0.],\n",
       "          [ 0.],\n",
       "          [ 0.],\n",
       "          ..., \n",
       "          [ 0.],\n",
       "          [ 0.],\n",
       "          [ 0.]],\n",
       " \n",
       "         ..., \n",
       "         [[ 0.],\n",
       "          [ 0.],\n",
       "          [ 0.],\n",
       "          ..., \n",
       "          [ 0.],\n",
       "          [ 0.],\n",
       "          [ 0.]],\n",
       " \n",
       "         [[ 0.],\n",
       "          [ 0.],\n",
       "          [ 0.],\n",
       "          ..., \n",
       "          [ 0.],\n",
       "          [ 0.],\n",
       "          [ 0.]],\n",
       " \n",
       "         [[ 0.],\n",
       "          [ 0.],\n",
       "          [ 0.],\n",
       "          ..., \n",
       "          [ 0.],\n",
       "          [ 0.],\n",
       "          [ 0.]]],\n",
       " \n",
       " \n",
       "        [[[ 0.],\n",
       "          [ 0.],\n",
       "          [ 0.],\n",
       "          ..., \n",
       "          [ 0.],\n",
       "          [ 0.],\n",
       "          [ 0.]],\n",
       " \n",
       "         [[ 0.],\n",
       "          [ 0.],\n",
       "          [ 0.],\n",
       "          ..., \n",
       "          [ 0.],\n",
       "          [ 0.],\n",
       "          [ 0.]],\n",
       " \n",
       "         [[ 0.],\n",
       "          [ 0.],\n",
       "          [ 0.],\n",
       "          ..., \n",
       "          [ 0.],\n",
       "          [ 0.],\n",
       "          [ 0.]],\n",
       " \n",
       "         ..., \n",
       "         [[ 0.],\n",
       "          [ 0.],\n",
       "          [ 0.],\n",
       "          ..., \n",
       "          [ 0.],\n",
       "          [ 0.],\n",
       "          [ 0.]],\n",
       " \n",
       "         [[ 0.],\n",
       "          [ 0.],\n",
       "          [ 0.],\n",
       "          ..., \n",
       "          [ 0.],\n",
       "          [ 0.],\n",
       "          [ 0.]],\n",
       " \n",
       "         [[ 0.],\n",
       "          [ 0.],\n",
       "          [ 0.],\n",
       "          ..., \n",
       "          [ 0.],\n",
       "          [ 0.],\n",
       "          [ 0.]]],\n",
       " \n",
       " \n",
       "        [[[ 0.],\n",
       "          [ 0.],\n",
       "          [ 0.],\n",
       "          ..., \n",
       "          [ 0.],\n",
       "          [ 0.],\n",
       "          [ 0.]],\n",
       " \n",
       "         [[ 0.],\n",
       "          [ 0.],\n",
       "          [ 0.],\n",
       "          ..., \n",
       "          [ 0.],\n",
       "          [ 0.],\n",
       "          [ 0.]],\n",
       " \n",
       "         [[ 0.],\n",
       "          [ 0.],\n",
       "          [ 0.],\n",
       "          ..., \n",
       "          [ 0.],\n",
       "          [ 0.],\n",
       "          [ 0.]],\n",
       " \n",
       "         ..., \n",
       "         [[ 0.],\n",
       "          [ 0.],\n",
       "          [ 0.],\n",
       "          ..., \n",
       "          [ 0.],\n",
       "          [ 0.],\n",
       "          [ 0.]],\n",
       " \n",
       "         [[ 0.],\n",
       "          [ 0.],\n",
       "          [ 0.],\n",
       "          ..., \n",
       "          [ 0.],\n",
       "          [ 0.],\n",
       "          [ 0.]],\n",
       " \n",
       "         [[ 0.],\n",
       "          [ 0.],\n",
       "          [ 0.],\n",
       "          ..., \n",
       "          [ 0.],\n",
       "          [ 0.],\n",
       "          [ 0.]]]]), array([[[ 0.,  0.,  0., ...,  0.,  0.,  0.],\n",
       "         [ 0.,  0.,  0., ...,  0.,  0.,  0.],\n",
       "         [ 1.,  0.,  0., ...,  0.,  0.,  0.],\n",
       "         ..., \n",
       "         [ 0.,  0.,  0., ...,  0.,  0.,  0.],\n",
       "         [ 0.,  1.,  0., ...,  0.,  0.,  0.],\n",
       "         [ 0.,  1.,  0., ...,  0.,  0.,  0.]],\n",
       " \n",
       "        [[ 0.,  0.,  0., ...,  0.,  0.,  0.],\n",
       "         [ 0.,  0.,  0., ...,  0.,  1.,  0.],\n",
       "         [ 0.,  1.,  0., ...,  0.,  0.,  0.],\n",
       "         ..., \n",
       "         [ 0.,  0.,  0., ...,  0.,  0.,  0.],\n",
       "         [ 0.,  0.,  0., ...,  0.,  0.,  1.],\n",
       "         [ 0.,  0.,  0., ...,  0.,  0.,  1.]],\n",
       " \n",
       "        [[ 0.,  0.,  0., ...,  1.,  0.,  0.],\n",
       "         [ 0.,  0.,  0., ...,  0.,  1.,  0.],\n",
       "         [ 1.,  0.,  0., ...,  0.,  0.,  0.],\n",
       "         ..., \n",
       "         [ 0.,  0.,  0., ...,  0.,  0.,  1.],\n",
       "         [ 0.,  0.,  0., ...,  0.,  0.,  1.],\n",
       "         [ 0.,  0.,  0., ...,  0.,  0.,  1.]],\n",
       " \n",
       "        [[ 0.,  0.,  0., ...,  0.,  1.,  0.],\n",
       "         [ 0.,  0.,  0., ...,  0.,  1.,  0.],\n",
       "         [ 0.,  0.,  0., ...,  0.,  0.,  0.],\n",
       "         ..., \n",
       "         [ 0.,  0.,  0., ...,  0.,  0.,  1.],\n",
       "         [ 0.,  0.,  0., ...,  0.,  0.,  1.],\n",
       "         [ 0.,  0.,  0., ...,  0.,  0.,  1.]],\n",
       " \n",
       "        [[ 0.,  0.,  0., ...,  0.,  0.,  0.],\n",
       "         [ 0.,  0.,  1., ...,  0.,  0.,  0.],\n",
       "         [ 0.,  0.,  0., ...,  0.,  0.,  1.],\n",
       "         ..., \n",
       "         [ 0.,  0.,  0., ...,  0.,  0.,  1.],\n",
       "         [ 0.,  0.,  0., ...,  0.,  0.,  1.],\n",
       "         [ 0.,  0.,  0., ...,  0.,  0.,  1.]]]), array([[ 5.],\n",
       "        [ 5.],\n",
       "        [ 4.],\n",
       "        [ 4.],\n",
       "        [ 3.],\n",
       "        [ 3.],\n",
       "        [ 2.],\n",
       "        [ 2.],\n",
       "        [ 1.],\n",
       "        [ 1.],\n",
       "        [ 5.],\n",
       "        [ 5.],\n",
       "        [ 4.],\n",
       "        [ 4.],\n",
       "        [ 3.],\n",
       "        [ 3.],\n",
       "        [ 2.],\n",
       "        [ 2.],\n",
       "        [ 1.],\n",
       "        [ 1.]]))"
      ]
     },
     "execution_count": 77,
     "metadata": {},
     "output_type": "execute_result"
    }
   ],
   "source": [
    "bg.next(20)"
   ]
  },
  {
   "cell_type": "markdown",
   "metadata": {
    "nbpresent": {
     "id": "afcc47e5-51ee-4a01-be83-d24a73ec96e5"
    }
   },
   "source": [
    "### Neural network"
   ]
  },
  {
   "cell_type": "code",
   "execution_count": 6,
   "metadata": {
    "collapsed": true,
    "nbpresent": {
     "id": "76631170-bfb7-4989-8afc-7b6bccf9735f"
    }
   },
   "outputs": [],
   "source": [
    "# Operations wrappers\n",
    "def weights_variable(shape):\n",
    "    initial = tf.truncated_normal(shape, stddev = 0.2)\n",
    "    return tf.Variable(initial)\n",
    "\n",
    "def bias_variable(shape):\n",
    "    initial = tf.zeros(shape)\n",
    "    return tf.Variable(initial)\n",
    "\n",
    "def conv2d(x, W):\n",
    "    return tf.nn.conv2d(x, W, strides=[1,1,1,1], padding='SAME')\n",
    "\n",
    "def max_pool2x2(x):\n",
    "    return tf.nn.max_pool(x, ksize=[1,2,2,1], strides=[1,2,2,1], padding='SAME')"
   ]
  },
  {
   "cell_type": "code",
   "execution_count": 7,
   "metadata": {
    "collapsed": false,
    "nbpresent": {
     "id": "4bb82a38-8b29-4c96-b3fe-519bcd61a62f"
    }
   },
   "outputs": [],
   "source": [
    "from abc import ABC, abstractmethod\n",
    "\n",
    "class LinearModel(ABC):\n",
    "    '''As we have a graph, we dont need methods like\n",
    "        def logits(self, x):\n",
    "        def loss(self, x, y):\n",
    "        def predictions(self, x):\n",
    "        \n",
    "        because we don't really passing data to these tensors\n",
    "        we just passing tensors, where this data will be again and again (they still the same)\n",
    "        \n",
    "        instead of that we can connect tensors in right way once\n",
    "        and save resulting tensors in fields\n",
    "        After that we can execute them in a session easier\n",
    "        '''\n",
    "    \n",
    "    @abstractmethod\n",
    "    def __init__(self, num_features, num_classes, x, y):  \n",
    "        self.num_features = num_features\n",
    "        self.num_classes = num_classes\n",
    "        \n",
    "        self.w = weights_variable([num_features, num_classes])\n",
    "        self.b = bias_variable([num_classes])\n",
    "        \n",
    "        self.logits = tf.matmul(x, self.w) + self.b\n",
    "        self.optimizer = tf.train.AdagradOptimizer(learning_rate = 0.007)\n",
    "         \n",
    "class LinearClassifier(LinearModel):\n",
    "    def __init__(self,  num_features, num_classes, x, y):\n",
    "        LinearModel.__init__(self, num_features, num_classes, x, y)\n",
    "        \n",
    "        # Loss\n",
    "        cross_entropy = tf.nn.softmax_cross_entropy_with_logits(logits=self.logits, labels=y)\n",
    "        self.loss = tf.reduce_mean(cross_entropy)\n",
    "        \n",
    "        # Probabilities and predictions\n",
    "        self.probabilities = tf.nn.softmax(self.logits)\n",
    "        self.predictions = tf.argmax(self.probabilities, axis=1)\n",
    "        \n",
    "        # Accuracy\n",
    "        labels = tf.argmax(y, axis=1)\n",
    "        self.accuracy = tf.reduce_mean(tf.cast(tf.equal(self.predictions, labels), tf.float32))\n",
    "        \n",
    "        # Training\n",
    "        self.train_step = self.optimizer.minimize(self.loss)\n",
    "    \n",
    "class LinearRegression(LinearModel):\n",
    "    def __init__(self,  num_features, num_classes, x, y):\n",
    "        LinearModel.__init__(self, num_features, 1, x, y)\n",
    "        \n",
    "        # Loss\n",
    "        mse = tf.reduce_mean(tf.squared_difference(self.logits, y))\n",
    "        self.loss = mse\n",
    "        \n",
    "        # Predictions\n",
    "        self.predictions = self.logits # to int and the calculate accuracy!\n",
    "        \n",
    "        # Training\n",
    "        self.train_step = self.optimizer.minimize(self.loss)"
   ]
  },
  {
   "cell_type": "code",
   "execution_count": 8,
   "metadata": {
    "collapsed": true,
    "nbpresent": {
     "id": "8fdf3a40-8c72-4139-901c-2639b8501643"
    }
   },
   "outputs": [],
   "source": [
    "digits_per_image = 5\n",
    "num_classes = 11\n",
    "num_classifiers = digits_per_image"
   ]
  },
  {
   "cell_type": "code",
   "execution_count": 9,
   "metadata": {
    "collapsed": false,
    "nbpresent": {
     "id": "4251d21c-ce41-47d3-b6ed-e4a4d022fbba"
    }
   },
   "outputs": [
    {
     "name": "stdout",
     "output_type": "stream",
     "text": [
      "(?, 7, 35, 64) 15680\n"
     ]
    }
   ],
   "source": [
    "graph = tf.Graph()\n",
    "\n",
    "with graph.as_default():\n",
    "    # conv > pool > conv > pool > fc1 > dropout > (5 or more linear classifiers and 1 for digits count)\n",
    "    x = tf.placeholder(tf.float32, shape=[None, 28, digits_per_image*28, 1])\n",
    "    ys = tf.placeholder(tf.float32, shape=[digits_per_image, None, num_classes])\n",
    "    y_cnt = tf.placeholder(tf.float32, shape=[None, 1])\n",
    "    \n",
    "    W_conv1 = weights_variable([5, 5, 1, 32])\n",
    "    b_conv1 = bias_variable(32)\n",
    "    \n",
    "    h_conv1 = tf.nn.relu(conv2d(x, W_conv1) + b_conv1)\n",
    "    h_pool1 = max_pool2x2(h_conv1)\n",
    "    \n",
    "    W_conv2 = weights_variable([5, 5, 32, 64])\n",
    "    b_conv2 = bias_variable(64)\n",
    "    \n",
    "    h_conv2 = tf.nn.relu(conv2d(h_pool1, W_conv2) + b_conv2)\n",
    "    h_pool2 = max_pool2x2(h_conv2)\n",
    "    \n",
    "    # A little bit hacky.\n",
    "    # I should learn to calc conv shapes in mind on fly\n",
    "    flat_size = int(h_pool2.shape[1] * h_pool2.shape[2] * h_pool2.shape[3])\n",
    "    print(h_pool2.shape, flat_size)\n",
    "    \n",
    "    fc1_size = 1024\n",
    "    W_fc1 = weights_variable([flat_size, fc1_size])\n",
    "    b_fc1 = bias_variable([fc1_size])\n",
    "    \n",
    "    h_pool2_flat = tf.reshape(h_pool2, [-1, flat_size])\n",
    "    h_fc1 = tf.nn.relu(tf.matmul(h_pool2_flat, W_fc1) + b_fc1)\n",
    "    \n",
    "    keep_prob = tf.placeholder(tf.float32)\n",
    "    dropout = tf.nn.dropout(h_fc1, keep_prob)\n",
    "    \n",
    "    image_embeds = dropout\n",
    "    \n",
    "    # Digits classifiers\n",
    "    # ================================================================\n",
    "    digits_classifiers = []\n",
    "    for i in range(num_classifiers):\n",
    "        i_th_digit_classifier = LinearClassifier(fc1_size, num_classes, image_embeds, ys[i])\n",
    "        digits_classifiers.append(i_th_digit_classifier)\n",
    "    \n",
    "    # Digits count classifier\n",
    "    count_classifier = LinearRegression(fc1_size, num_classes, image_embeds, y_cnt)\n",
    "    top_classifiers = digits_classifiers + [count_classifier]\n",
    "    \n",
    "    # Summary loss\n",
    "    summary_loss = 0\n",
    "    for c in top_classifiers: # or in digits_classifiers only?\n",
    "        summary_loss += c.loss\n",
    "    average_loss = summary_loss / (num_classifiers + 1)\n",
    "    \n",
    "    summary_train_step = tf.train.AdamOptimizer(learning_rate=0.007).minimize(average_loss)"
   ]
  },
  {
   "cell_type": "code",
   "execution_count": 84,
   "metadata": {
    "collapsed": false,
    "nbpresent": {
     "id": "e3a74578-ab88-4238-974f-5fe1f96d1609"
    }
   },
   "outputs": [
    {
     "name": "stdout",
     "output_type": "stream",
     "text": [
      "step 0\n",
      "Average loss 841096.1875\n",
      "0th digit classifier: [accuracy: 0.12666666507720947, loss: 177.9894561767578]\n",
      "1th digit classifier: [accuracy: 0.2199999988079071, loss: 158.83883666992188]\n",
      "2th digit classifier: [accuracy: 0.23999999463558197, loss: 159.4976043701172]\n",
      "3th digit classifier: [accuracy: 0.03999999910593033, loss: 159.4160614013672]\n",
      "4th digit classifier: [accuracy: 0.6666666865348816, loss: 62.2596549987793]\n",
      "Count classifier loss: 5045859.0\n",
      "step 10\n",
      "step 20\n",
      "step 30\n",
      "step 40\n",
      "step 50\n",
      "step 60\n",
      "step 70\n",
      "step 80\n",
      "step 90\n",
      "step 100\n",
      "step 110\n",
      "step 120\n",
      "step 130\n",
      "step 140\n",
      "step 150\n",
      "step 160\n",
      "step 170\n",
      "step 180\n",
      "step 190\n",
      "step 200\n",
      "step 210\n",
      "step 220\n",
      "step 230\n",
      "step 240\n",
      "step 250\n",
      "step 260\n",
      "step 270\n",
      "step 280\n",
      "step 290\n",
      "step 300\n",
      "step 310\n",
      "step 320\n",
      "step 330\n",
      "step 340\n",
      "step 350\n",
      "step 360\n",
      "step 370\n",
      "step 380\n",
      "step 390\n",
      "step 400\n",
      "step 410\n",
      "step 420\n",
      "step 430\n",
      "step 440\n",
      "step 450\n",
      "step 460\n",
      "step 470\n",
      "step 480\n",
      "step 490\n",
      "step 500\n",
      "Average loss 0.8389802575111389\n",
      "0th digit classifier: [accuracy: 0.6200000047683716, loss: 1.2927981615066528]\n",
      "1th digit classifier: [accuracy: 0.5600000023841858, loss: 1.3045289516448975]\n",
      "2th digit classifier: [accuracy: 0.6833333373069763, loss: 0.9774473309516907]\n",
      "3th digit classifier: [accuracy: 0.7133333086967468, loss: 0.792952835559845]\n",
      "4th digit classifier: [accuracy: 0.8766666650772095, loss: 0.3813910186290741]\n",
      "Count classifier loss: 0.2847633957862854\n",
      "step 510\n",
      "step 520\n",
      "step 530\n",
      "step 540\n",
      "step 550\n",
      "step 560\n",
      "step 570\n",
      "step 580\n",
      "step 590\n",
      "step 600\n",
      "step 610\n",
      "step 620\n",
      "step 630\n",
      "step 640\n",
      "step 650\n",
      "step 660\n",
      "step 670\n",
      "step 680\n",
      "step 690\n",
      "step 700\n",
      "step 710\n",
      "step 720\n",
      "step 730\n",
      "step 740\n",
      "step 750\n",
      "step 760\n",
      "step 770\n",
      "step 780\n",
      "step 790\n",
      "step 800\n",
      "step 810\n",
      "step 820\n",
      "step 830\n",
      "step 840\n",
      "step 850\n",
      "step 860\n",
      "step 870\n",
      "step 880\n",
      "step 890\n",
      "step 900\n",
      "step 910\n",
      "step 920\n",
      "step 930\n",
      "step 940\n",
      "step 950\n",
      "step 960\n",
      "step 970\n",
      "step 980\n",
      "step 990\n",
      "step 1000\n",
      "Average loss 0.6450591087341309\n",
      "0th digit classifier: [accuracy: 0.7066666483879089, loss: 0.9441559910774231]\n",
      "1th digit classifier: [accuracy: 0.6200000047683716, loss: 1.0722196102142334]\n",
      "2th digit classifier: [accuracy: 0.7099999785423279, loss: 0.7939333319664001]\n",
      "3th digit classifier: [accuracy: 0.7900000214576721, loss: 0.6081296801567078]\n",
      "4th digit classifier: [accuracy: 0.9166666865348816, loss: 0.26213338971138]\n",
      "Count classifier loss: 0.1897825300693512\n",
      "step 1010\n",
      "step 1020\n",
      "step 1030\n",
      "step 1040\n",
      "step 1050\n",
      "step 1060\n",
      "step 1070\n",
      "step 1080\n",
      "step 1090\n",
      "step 1100\n",
      "step 1110\n",
      "step 1120\n",
      "step 1130\n",
      "step 1140\n",
      "step 1150\n",
      "step 1160\n",
      "step 1170\n",
      "step 1180\n",
      "step 1190\n",
      "step 1200\n",
      "step 1210\n",
      "step 1220\n",
      "step 1230\n",
      "step 1240\n",
      "step 1250\n",
      "step 1260\n",
      "step 1270\n",
      "step 1280\n",
      "step 1290\n",
      "step 1300\n",
      "step 1310\n",
      "step 1320\n",
      "step 1330\n",
      "step 1340\n",
      "step 1350\n",
      "step 1360\n",
      "step 1370\n",
      "step 1380\n",
      "step 1390\n",
      "step 1400\n",
      "step 1410\n",
      "step 1420\n",
      "step 1430\n",
      "step 1440\n",
      "step 1450\n",
      "step 1460\n",
      "step 1470\n",
      "step 1480\n",
      "step 1490\n",
      "step 1500\n",
      "Average loss 0.5702690482139587\n",
      "0th digit classifier: [accuracy: 0.7566666603088379, loss: 0.7648351192474365]\n",
      "1th digit classifier: [accuracy: 0.6499999761581421, loss: 0.9920417070388794]\n",
      "2th digit classifier: [accuracy: 0.7799999713897705, loss: 0.6713260412216187]\n",
      "3th digit classifier: [accuracy: 0.8299999833106995, loss: 0.5334291458129883]\n",
      "4th digit classifier: [accuracy: 0.9066666960716248, loss: 0.2795685827732086]\n",
      "Count classifier loss: 0.18041373789310455\n",
      "step 1510\n",
      "step 1520\n",
      "step 1530\n",
      "step 1540\n",
      "step 1550\n",
      "step 1560\n",
      "step 1570\n",
      "step 1580\n",
      "step 1590\n",
      "step 1600\n",
      "step 1610\n",
      "step 1620\n",
      "step 1630\n",
      "step 1640\n",
      "step 1650\n",
      "step 1660\n",
      "step 1670\n",
      "step 1680\n",
      "step 1690\n",
      "step 1700\n",
      "step 1710\n",
      "step 1720\n",
      "step 1730\n",
      "step 1740\n",
      "step 1750\n",
      "step 1760\n",
      "step 1770\n",
      "step 1780\n",
      "step 1790\n",
      "step 1800\n",
      "step 1810\n",
      "step 1820\n",
      "step 1830\n",
      "step 1840\n",
      "step 1850\n",
      "step 1860\n",
      "step 1870\n",
      "step 1880\n",
      "step 1890\n",
      "step 1900\n",
      "step 1910\n",
      "step 1920\n",
      "step 1930\n",
      "step 1940\n",
      "step 1950\n",
      "step 1960\n",
      "step 1970\n",
      "step 1980\n",
      "step 1990\n",
      "step 2000\n",
      "Average loss 0.49407386779785156\n",
      "0th digit classifier: [accuracy: 0.7766666412353516, loss: 0.6510063409805298]\n",
      "1th digit classifier: [accuracy: 0.699999988079071, loss: 0.889771044254303]\n",
      "2th digit classifier: [accuracy: 0.7733333110809326, loss: 0.6320559978485107]\n",
      "3th digit classifier: [accuracy: 0.8566666841506958, loss: 0.395195871591568]\n",
      "4th digit classifier: [accuracy: 0.9200000166893005, loss: 0.22260022163391113]\n",
      "Count classifier loss: 0.1738135665655136\n",
      "step 2010\n",
      "step 2020\n",
      "step 2030\n",
      "step 2040\n",
      "step 2050\n",
      "step 2060\n",
      "step 2070\n",
      "step 2080\n",
      "step 2090\n",
      "step 2100\n",
      "step 2110\n",
      "step 2120\n",
      "step 2130\n",
      "step 2140\n",
      "step 2150\n",
      "step 2160\n",
      "step 2170\n",
      "step 2180\n",
      "step 2190\n",
      "step 2200\n",
      "step 2210\n",
      "step 2220\n",
      "step 2230\n",
      "step 2240\n",
      "step 2250\n",
      "step 2260\n",
      "step 2270\n",
      "step 2280\n",
      "step 2290\n",
      "step 2300\n",
      "step 2310\n",
      "step 2320\n",
      "step 2330\n",
      "step 2340\n",
      "step 2350\n",
      "step 2360\n",
      "step 2370\n",
      "step 2380\n",
      "step 2390\n",
      "step 2400\n",
      "step 2410\n",
      "step 2420\n",
      "step 2430\n",
      "step 2440\n",
      "step 2450\n",
      "step 2460\n",
      "step 2470\n",
      "step 2480\n",
      "step 2490\n",
      "step 2500\n",
      "Average loss 0.4088573455810547\n",
      "0th digit classifier: [accuracy: 0.8199999928474426, loss: 0.5267437100410461]\n",
      "1th digit classifier: [accuracy: 0.7866666913032532, loss: 0.7080332040786743]\n",
      "2th digit classifier: [accuracy: 0.846666693687439, loss: 0.4855567514896393]\n",
      "3th digit classifier: [accuracy: 0.8733333349227905, loss: 0.3754517734050751]\n",
      "4th digit classifier: [accuracy: 0.9399999976158142, loss: 0.21299806237220764]\n",
      "Count classifier loss: 0.14436061680316925\n",
      "step 2510\n",
      "step 2520\n",
      "step 2530\n",
      "step 2540\n",
      "step 2550\n",
      "step 2560\n",
      "step 2570\n",
      "step 2580\n",
      "step 2590\n",
      "step 2600\n",
      "step 2610\n",
      "step 2620\n",
      "step 2630\n",
      "step 2640\n",
      "step 2650\n",
      "step 2660\n",
      "step 2670\n",
      "step 2680\n",
      "step 2690\n",
      "step 2700\n",
      "step 2710\n",
      "step 2720\n",
      "step 2730\n",
      "step 2740\n",
      "step 2750\n",
      "step 2760\n",
      "step 2770\n",
      "step 2780\n",
      "step 2790\n",
      "step 2800\n",
      "step 2810\n",
      "step 2820\n",
      "step 2830\n",
      "step 2840\n",
      "step 2850\n",
      "step 2860\n",
      "step 2870\n",
      "step 2880\n",
      "step 2890\n",
      "step 2900\n",
      "step 2910\n",
      "step 2920\n",
      "step 2930\n",
      "step 2940\n",
      "step 2950\n",
      "step 2960\n",
      "step 2970\n",
      "step 2980\n",
      "step 2990\n",
      "step 3000\n",
      "Average loss 0.3355754315853119\n",
      "0th digit classifier: [accuracy: 0.8600000143051147, loss: 0.44722920656204224]\n",
      "1th digit classifier: [accuracy: 0.8033333420753479, loss: 0.5778481364250183]\n",
      "2th digit classifier: [accuracy: 0.8766666650772095, loss: 0.3970099091529846]\n",
      "3th digit classifier: [accuracy: 0.8999999761581421, loss: 0.3065536618232727]\n",
      "4th digit classifier: [accuracy: 0.9466666579246521, loss: 0.1412305384874344]\n",
      "Count classifier loss: 0.14358127117156982\n",
      "step 3010\n",
      "step 3020\n",
      "step 3030\n",
      "step 3040\n",
      "step 3050\n",
      "step 3060\n",
      "step 3070\n",
      "step 3080\n",
      "step 3090\n",
      "step 3100\n",
      "step 3110\n",
      "step 3120\n",
      "step 3130\n",
      "step 3140\n",
      "step 3150\n",
      "step 3160\n",
      "step 3170\n",
      "step 3180\n",
      "step 3190\n",
      "step 3200\n",
      "step 3210\n",
      "step 3220\n",
      "step 3230\n",
      "step 3240\n",
      "step 3250\n",
      "step 3260\n",
      "step 3270\n",
      "step 3280\n",
      "step 3290\n",
      "step 3300\n",
      "step 3310\n",
      "step 3320\n",
      "step 3330\n",
      "step 3340\n",
      "step 3350\n",
      "step 3360\n",
      "step 3370\n",
      "step 3380\n",
      "step 3390\n",
      "step 3400\n",
      "step 3410\n",
      "step 3420\n",
      "step 3430\n",
      "step 3440\n",
      "step 3450\n",
      "step 3460\n",
      "step 3470\n",
      "step 3480\n",
      "step 3490\n",
      "step 3500\n",
      "Average loss 0.3054918348789215\n",
      "0th digit classifier: [accuracy: 0.8399999737739563, loss: 0.47135478258132935]\n",
      "1th digit classifier: [accuracy: 0.8233333230018616, loss: 0.49901026487350464]\n",
      "2th digit classifier: [accuracy: 0.8966666460037231, loss: 0.33829981088638306]\n",
      "3th digit classifier: [accuracy: 0.9133333563804626, loss: 0.23624287545681]\n",
      "4th digit classifier: [accuracy: 0.9566666483879089, loss: 0.14184445142745972]\n",
      "Count classifier loss: 0.14619892835617065\n",
      "step 3510\n",
      "step 3520\n",
      "step 3530\n",
      "step 3540\n",
      "step 3550\n",
      "step 3560\n",
      "step 3570\n",
      "step 3580\n",
      "step 3590\n",
      "step 3600\n",
      "step 3610\n",
      "step 3620\n",
      "step 3630\n",
      "step 3640\n",
      "step 3650\n",
      "step 3660\n",
      "step 3670\n",
      "step 3680\n",
      "step 3690\n",
      "step 3700\n",
      "step 3710\n",
      "step 3720\n",
      "step 3730\n",
      "step 3740\n",
      "step 3750\n",
      "step 3760\n",
      "step 3770\n",
      "step 3780\n",
      "step 3790\n",
      "step 3800\n",
      "step 3810\n",
      "step 3820\n",
      "step 3830\n",
      "step 3840\n",
      "step 3850\n",
      "step 3860\n",
      "step 3870\n",
      "step 3880\n",
      "step 3890\n",
      "step 3900\n",
      "step 3910\n",
      "step 3920\n",
      "step 3930\n",
      "step 3940\n",
      "step 3950\n",
      "step 3960\n",
      "step 3970\n",
      "step 3980\n",
      "step 3990\n",
      "step 4000\n",
      "Average loss 0.25727134943008423\n",
      "0th digit classifier: [accuracy: 0.8933333158493042, loss: 0.33538976311683655]\n",
      "1th digit classifier: [accuracy: 0.8700000047683716, loss: 0.40052852034568787]\n",
      "2th digit classifier: [accuracy: 0.8899999856948853, loss: 0.3287646174430847]\n",
      "3th digit classifier: [accuracy: 0.9066666960716248, loss: 0.2765064537525177]\n",
      "4th digit classifier: [accuracy: 0.9800000190734863, loss: 0.06592710316181183]\n",
      "Count classifier loss: 0.13651154935359955\n",
      "step 4010\n",
      "step 4020\n",
      "step 4030\n",
      "step 4040\n",
      "step 4050\n",
      "step 4060\n",
      "step 4070\n",
      "step 4080\n",
      "step 4090\n",
      "step 4100\n",
      "step 4110\n",
      "step 4120\n",
      "step 4130\n",
      "step 4140\n",
      "step 4150\n",
      "step 4160\n",
      "step 4170\n",
      "step 4180\n",
      "step 4190\n",
      "step 4200\n",
      "step 4210\n",
      "step 4220\n",
      "step 4230\n",
      "step 4240\n",
      "step 4250\n",
      "step 4260\n",
      "step 4270\n",
      "step 4280\n",
      "step 4290\n",
      "step 4300\n",
      "step 4310\n",
      "step 4320\n",
      "step 4330\n",
      "step 4340\n",
      "step 4350\n",
      "step 4360\n",
      "step 4370\n",
      "step 4380\n",
      "step 4390\n",
      "step 4400\n",
      "step 4410\n",
      "step 4420\n",
      "step 4430\n",
      "step 4440\n",
      "step 4450\n",
      "step 4460\n",
      "step 4470\n",
      "step 4480\n",
      "step 4490\n",
      "step 4500\n",
      "Average loss 0.26396000385284424\n",
      "0th digit classifier: [accuracy: 0.8733333349227905, loss: 0.380950927734375]\n",
      "1th digit classifier: [accuracy: 0.8966666460037231, loss: 0.3317585289478302]\n",
      "2th digit classifier: [accuracy: 0.8833333253860474, loss: 0.3682352602481842]\n",
      "3th digit classifier: [accuracy: 0.9333333373069763, loss: 0.2067994326353073]\n",
      "4th digit classifier: [accuracy: 0.9433333277702332, loss: 0.14048917591571808]\n",
      "Count classifier loss: 0.15552671253681183\n",
      "step 4510\n",
      "step 4520\n",
      "step 4530\n",
      "step 4540\n",
      "step 4550\n",
      "step 4560\n",
      "step 4570\n",
      "step 4580\n",
      "step 4590\n",
      "step 4600\n",
      "step 4610\n",
      "step 4620\n",
      "step 4630\n",
      "step 4640\n",
      "step 4650\n",
      "step 4660\n",
      "step 4670\n",
      "step 4680\n",
      "step 4690\n",
      "step 4700\n",
      "step 4710\n",
      "step 4720\n",
      "step 4730\n",
      "step 4740\n",
      "step 4750\n",
      "step 4760\n",
      "step 4770\n",
      "step 4780\n",
      "step 4790\n",
      "step 4800\n",
      "step 4810\n",
      "step 4820\n",
      "step 4830\n",
      "step 4840\n",
      "step 4850\n",
      "step 4860\n",
      "step 4870\n",
      "step 4880\n",
      "step 4890\n",
      "step 4900\n",
      "step 4910\n",
      "step 4920\n",
      "step 4930\n",
      "step 4940\n",
      "step 4950\n",
      "step 4960\n",
      "step 4970\n",
      "step 4980\n",
      "step 4990\n",
      "Test for 300 images\n",
      "Average loss 0.23702912032604218\n",
      "0th digit classifier: [accuracy: 0.8399999737739563, loss: 0.4074385464191437]\n",
      "1th digit classifier: [accuracy: 0.8700000047683716, loss: 0.3443416953086853]\n",
      "2th digit classifier: [accuracy: 0.9200000166893005, loss: 0.26217225193977356]\n",
      "3th digit classifier: [accuracy: 0.9333333373069763, loss: 0.1779005527496338]\n",
      "4th digit classifier: [accuracy: 0.9633333086967468, loss: 0.10003896057605743]\n",
      "Count classifier loss: 0.13028265535831451\n",
      "Some samples\n"
     ]
    },
    {
     "data": {
      "image/png": "[encoded data removed]",
      "text/plain": [
       "<matplotlib.figure.Figure at 0x7f9985ac5f28>"
      ]
     },
     "metadata": {},
     "output_type": "display_data"
    },
    {
     "name": "stdout",
     "output_type": "stream",
     "text": [
      "Predicted 13183 length of [ 4.79984093]\n"
     ]
    },
    {
     "data": {
      "image/png": "[encoded data removed]",
      "text/plain": [
       "<matplotlib.figure.Figure at 0x7f998067fb00>"
      ]
     },
     "metadata": {},
     "output_type": "display_data"
    },
    {
     "name": "stdout",
     "output_type": "stream",
     "text": [
      "Predicted 03903 length of [ 4.74792194]\n"
     ]
    },
    {
     "data": {
      "image/png": "[encoded data removed]",
      "text/plain": [
       "<matplotlib.figure.Figure at 0x7f998513bd68>"
      ]
     },
     "metadata": {},
     "output_type": "display_data"
    },
    {
     "name": "stdout",
     "output_type": "stream",
     "text": [
      "Predicted 63798 length of [ 4.88864422]\n"
     ]
    },
    {
     "data": {
      "image/png": "[encoded data removed]",
      "text/plain": [
       "<matplotlib.figure.Figure at 0x7f997aae5c50>"
      ]
     },
     "metadata": {},
     "output_type": "display_data"
    },
    {
     "name": "stdout",
     "output_type": "stream",
     "text": [
      "Predicted 23876 length of [ 4.80878448]\n"
     ]
    },
    {
     "data": {
      "image/png": "[encoded data removed]",
      "text/plain": [
       "<matplotlib.figure.Figure at 0x7f9986147438>"
      ]
     },
     "metadata": {},
     "output_type": "display_data"
    },
    {
     "name": "stdout",
     "output_type": "stream",
     "text": [
      "Predicted 92614 length of [ 5.06503487]\n"
     ]
    },
    {
     "data": {
      "image/png": "[encoded data removed]",
      "text/plain": [
       "<matplotlib.figure.Figure at 0x7f9985ab64a8>"
      ]
     },
     "metadata": {},
     "output_type": "display_data"
    },
    {
     "name": "stdout",
     "output_type": "stream",
     "text": [
      "Predicted 88663 length of [ 5.42760563]\n"
     ]
    },
    {
     "data": {
      "image/png": "[encoded data removed]",
      "text/plain": [
       "<matplotlib.figure.Figure at 0x7f998609aeb8>"
      ]
     },
     "metadata": {},
     "output_type": "display_data"
    },
    {
     "name": "stdout",
     "output_type": "stream",
     "text": [
      "Predicted 92682 length of [ 5.04744577]\n"
     ]
    },
    {
     "data": {
      "image/png": "[encoded data removed]",
      "text/plain": [
       "<matplotlib.figure.Figure at 0x7f9985abfd68>"
      ]
     },
     "metadata": {},
     "output_type": "display_data"
    },
    {
     "name": "stdout",
     "output_type": "stream",
     "text": [
      "Predicted 99903 length of [ 4.59403515]\n"
     ]
    },
    {
     "data": {
      "image/png": "[encoded data removed]",
      "text/plain": [
       "<matplotlib.figure.Figure at 0x7f99806b5e80>"
      ]
     },
     "metadata": {},
     "output_type": "display_data"
    },
    {
     "name": "stdout",
     "output_type": "stream",
     "text": [
      "Predicted 22056 length of [ 5.60551214]\n"
     ]
    },
    {
     "data": {
      "image/png": "[encoded data removed]",
      "text/plain": [
       "<matplotlib.figure.Figure at 0x7f997ab2f2e8>"
      ]
     },
     "metadata": {},
     "output_type": "display_data"
    },
    {
     "name": "stdout",
     "output_type": "stream",
     "text": [
      "Predicted 40132 length of [ 5.47685719]\n"
     ]
    }
   ],
   "source": [
    "num_steps = 2000\n",
    "bg = BatchGenerator(digits_per_image)\n",
    "batch_size = 64\n",
    "training_approach = \"use summary loss\"\n",
    "validation_size = 300 # todo choose it right\n",
    "test_size = 300\n",
    "print_size = 10\n",
    "\n",
    "with tf.Session(graph=graph) as session:\n",
    "    session.run(tf.global_variables_initializer())\n",
    "    \n",
    "    # Arrays to train all in one session\n",
    "    train_steps = [c.train_step for c in top_classifiers]\n",
    "    losses = [c.loss for c in digits_classifiers]\n",
    "    accuracies = [c.accuracy for c in digits_classifiers]\n",
    "    tensors_to_run = None\n",
    "    \n",
    "    for i in range(num_steps):\n",
    "        images, labels, empties_counts = bg.next(batch_size)\n",
    "        feed_dict = {\n",
    "            x: images,\n",
    "            ys: labels,\n",
    "            y_cnt: empties_counts,\n",
    "            keep_prob: 0.5\n",
    "        }\n",
    "  \n",
    "        # Training\n",
    "        if training_approach == \"use summary loss\":\n",
    "            session.run(summary_train_step, feed_dict=feed_dict)\n",
    "        elif training_approach == \"train separately\":\n",
    "            session.run(train_steps, feed_dict=feed_dict)\n",
    "\n",
    "        if i % 10 == 0: \n",
    "            print(f'step {i}')\n",
    "\n",
    "        # Validation\n",
    "        if i % 1000 == 0:\n",
    "            images, labels, empties_counts = bg.next(validation_size, aim='validation')\n",
    "            feed_dict = {\n",
    "                x: images,\n",
    "                ys: labels,\n",
    "                y_cnt: empties_counts,\n",
    "                keep_prob: 1.0\n",
    "            }\n",
    "\n",
    "            if tensors_to_run is None:\n",
    "                tensors_to_run = [losses, accuracies, count_classifier.loss, average_loss]\n",
    "\n",
    "            cls_l, cls_a, cnt_cls_l, a_l = session.run(tensors_to_run, feed_dict=feed_dict)\n",
    "            print(f\"Average loss {a_l}\")\n",
    "            for j in range(num_classifiers):\n",
    "                print(f\"{j}th digit classifier: [accuracy: {cls_a[j]}, loss: {cls_l[j]}]\")\n",
    "            print(f\"Count classifier loss: {cnt_cls_l}\")\n",
    "          \n",
    "    # we can also continue session later\n",
    "    # https://stackoverflow.com/questions/41037650/how-to-restore-session-in-tensorflow\n",
    "    # https://www.tensorflow.org/versions/r0.12/api_docs/python/client/session_management   \n",
    "    # test\n",
    "    print(f'Test for {test_size} images')\n",
    "    images, labels, digits_count = bg.next(test_size, aim='test')\n",
    "    feed_dict = {\n",
    "        x: images,\n",
    "        ys: labels,\n",
    "        y_cnt: digits_count,\n",
    "        keep_prob: 1.0\n",
    "    }\n",
    "    \n",
    "    # Accuracy\n",
    "    if tensors_to_run is None:\n",
    "        tensors_to_run = [losses, accuracies, count_classifier.loss, average_loss]\n",
    "\n",
    "    cls_l, cls_a, cnt_cls_l, a_l = session.run(tensors_to_run, feed_dict=feed_dict)\n",
    "    print(f\"Average loss {a_l}\")\n",
    "    for j in range(num_classifiers):\n",
    "        print(f\"{j}th digit classifier: [accuracy: {cls_a[j]}, loss: {cls_l[j]}]\")\n",
    "    print(f\"Count classifier loss: {cnt_cls_l}\")\n",
    "\n",
    "    # Actual predictions\n",
    "    print(\"Some samples\")\n",
    "    predictions = [c.predictions for c in top_classifiers]\n",
    "    \n",
    "    c_ps = session.run(predictions, feed_dict=feed_dict)\n",
    "    predicted_digits = c_ps[:digits_per_image]\n",
    "    for i in range(print_size):\n",
    "        plt.imshow(images[i].squeeze())\n",
    "        plt.show()\n",
    "        \n",
    "        number = ''\n",
    "        for j in range(num_classifiers):\n",
    "            digit = predicted_digits[j][i]\n",
    "            if digit != num_classes-1: # 'no digit' encoded as max digit\n",
    "                number += str(digit)\n",
    "                \n",
    "        predicted_length = c_ps[-1]\n",
    "        print('Predicted {} length of {}'.format(number, predicted_length[i]))\n",
    "        \n",
    "    # Save trained model\n",
    "    saver = tf.train.Saver()\n",
    "    saver.save(session, \"/tmp/model.ckpt\")\n",
    "    \n",
    "    # We can restore them later. Just read \n",
    "    # https://www.tensorflow.org/programmers_guide/saved_model"
   ]
  },
  {
   "cell_type": "markdown",
   "metadata": {},
   "source": [
    "Don't know why but samples were not shown.   \n",
    "But I god these results: \n",
    "```\n",
    "Test for 300 images\n",
    "Average loss 0.23702912032604218\n",
    "0th digit classifier: [accuracy: 0.8399999737739563, loss: 0.4074385464191437]\n",
    "1th digit classifier: [accuracy: 0.8700000047683716, loss: 0.3443416953086853]\n",
    "2th digit classifier: [accuracy: 0.9200000166893005, loss: 0.26217225193977356]\n",
    "3th digit classifier: [accuracy: 0.9333333373069763, loss: 0.1779005527496338]\n",
    "4th digit classifier: [accuracy: 0.9633333086967468, loss: 0.10003896057605743]\n",
    "Count classifier loss: 0.13028265535831451\n",
    "```\n",
    "\n",
    "Ans seems like it can be much better.  \n",
    "It still grow even on 5000 operation.  \n",
    "Maybe with other optimizer."
   ]
  },
  {
   "cell_type": "markdown",
   "metadata": {
    "nbpresent": {
     "id": "be1edfc9-8384-43de-b8c0-3885d83e56ac"
    }
   },
   "source": [
    "### Work for bugs\n",
    "Can't see overfitting. All weights in range [-0.5, 0.5]  \n",
    "But results become very bad after ~20-30th iteration\n",
    "\n",
    "Any ideas?\n",
    "-----\n",
    "Yes!\n",
    "\n",
    "|Solved?|Problem or suggestion|\n",
    "|-|--|\n",
    "|YES!| Maybe problem is in encoding of empty image  \n",
    "| | Need regularization for covnet  \n",
    "| | Need optimizer with Descending learning rate  \n",
    "| | Bad dropout placement in network architecture  \n",
    "|YES!| maybe there should not be 0 images or empty images nullifying all weights (check 1 item of this list)  \n",
    "| | Maybe add layer on the top of last NN layer"
   ]
  },
  {
   "cell_type": "markdown",
   "metadata": {
    "nbpresent": {
     "id": "459d0200-45e2-48f0-a17f-e384a1d6374b"
    }
   },
   "source": [
    "!!! Execution of many operations in one session is much faster than execution of each one separately in many sessions\n",
    "-------"
   ]
  },
  {
   "cell_type": "markdown",
   "metadata": {
    "nbpresent": {
     "id": "7ebfbcc3-fed5-47cb-9b58-e24d01801fb9"
    }
   },
   "source": [
    "[x] Overfitting with empty images labels encoded as zeros arrays\n",
    "-------\n",
    "Seems like classifiers were overfitted by the empty digits label, which was a batch of zeros.  \n",
    "So it also seems like there are many empty digits in batch  \n",
    "**TODO** Reduce number of empty_digits in batch  \n",
    "Also last classifier getting more empty digits than first. It's not fair!"
   ]
  },
  {
   "cell_type": "markdown",
   "metadata": {
    "nbpresent": {
     "id": "73d94d48-83b4-4ff9-89af-2a83ad275eef"
    }
   },
   "source": [
    "Also with every graph execution around 1Gb dissapears"
   ]
  },
  {
   "cell_type": "markdown",
   "metadata": {
    "nbpresent": {
     "id": "324520f9-40ee-4ca9-b395-a37f813ee030"
    }
   },
   "source": [
    "[ ] Education quality related of empty images diestibution\n",
    "-----\n",
    "Right now it's like this\n",
    "```\n",
    "accuracy for 0th classifier: [0.079999998]\n",
    "accuracy for 1th classifier: [0.2]\n",
    "accuracy for 2th classifier: [0.40000001]\n",
    "accuracy for 3th classifier: [0.60000002]\n",
    "accuracy for 4th classifier: [0.80000001]\n",
    "```\n",
    "\n",
    "And it's almost fully correlated with amound empty images per digit's position in number"
   ]
  },
  {
   "cell_type": "markdown",
   "metadata": {
    "nbpresent": {
     "id": "103d3278-e4e7-40a4-bdcb-277d9e1da78f"
    }
   },
   "source": [
    "[ ] Train each classifier separately or all in once?\n",
    "---------\n",
    "\n",
    "If we train them separately, we can give more information about their training.  \n",
    "Thanks to that I found out that classifier for last digit will get more empty images, than first.  \n",
    "And so it's easy to overfit to empty images.  \n",
    "\n",
    "But every time we train each classifier, we also train all CNN before.  \n",
    "It's a very expensive.  \n",
    "\n",
    "For example 5 minutes vs 10 seconds (when training all at once).\n",
    "\n",
    "**But seems like training all at once using summary loss optimizes more the easiest optimizer (the last , because it has many empty images). Maybe I should use average instead of summ**"
   ]
  },
  {
   "cell_type": "markdown",
   "metadata": {
    "nbpresent": {
     "id": "5c223e09-606c-41f3-bf16-78779e8e4289"
    }
   },
   "source": [
    "that to run first: optimizer or loss function?  \n",
    "-----\n",
    "I think optimizer, thel loss. In that case we will   \n",
    "know loss at the end after last call of optimizer"
   ]
  }
 ],
 "metadata": {
  "anaconda-cloud": {},
  "kernelspec": {
   "display_name": "Python [conda env:py_36]",
   "language": "python",
   "name": "conda-env-py_36-py"
  },
  "language_info": {
   "codemirror_mode": {
    "name": "ipython",
    "version": 3
   },
   "file_extension": ".py",
   "mimetype": "text/x-python",
   "name": "python",
   "nbconvert_exporter": "python",
   "pygments_lexer": "ipython3",
   "version": "3.6.2"
  }
 },
 "nbformat": 4,
 "nbformat_minor": 1
}
